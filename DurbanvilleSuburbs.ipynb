{
  "nbformat": 4,
  "nbformat_minor": 0,
  "metadata": {
    "colab": {
      "name": "DurbanvilleSuburbs.ipynb",
      "provenance": [],
      "collapsed_sections": [],
      "authorship_tag": "ABX9TyMYKb2CGR/7qrIJwZ83ndQ/",
      "include_colab_link": true
    },
    "kernelspec": {
      "name": "python3",
      "display_name": "Python 3"
    },
    "language_info": {
      "name": "python"
    },
    "widgets": {
      "application/vnd.jupyter.widget-state+json": {
        "503a096a1f5543f7ba04a6304d1a99cf": {
          "model_module": "@jupyter-widgets/controls",
          "model_name": "HBoxModel",
          "model_module_version": "1.5.0",
          "state": {
            "_view_name": "HBoxView",
            "_dom_classes": [],
            "_model_name": "HBoxModel",
            "_view_module": "@jupyter-widgets/controls",
            "_model_module_version": "1.5.0",
            "_view_count": null,
            "_view_module_version": "1.5.0",
            "box_style": "",
            "layout": "IPY_MODEL_33d66067ee8b4ae088952618c7c3cb29",
            "_model_module": "@jupyter-widgets/controls",
            "children": [
              "IPY_MODEL_626ef077615542738c48f475897ba5dc",
              "IPY_MODEL_5b2191f7951241ca9943c21a92614555",
              "IPY_MODEL_e7e0e5bfc7aa42b0ad78afacbba77706"
            ]
          }
        },
        "33d66067ee8b4ae088952618c7c3cb29": {
          "model_module": "@jupyter-widgets/base",
          "model_name": "LayoutModel",
          "model_module_version": "1.2.0",
          "state": {
            "_view_name": "LayoutView",
            "grid_template_rows": null,
            "right": null,
            "justify_content": null,
            "_view_module": "@jupyter-widgets/base",
            "overflow": null,
            "_model_module_version": "1.2.0",
            "_view_count": null,
            "flex_flow": null,
            "width": null,
            "min_width": null,
            "border": null,
            "align_items": null,
            "bottom": null,
            "_model_module": "@jupyter-widgets/base",
            "top": null,
            "grid_column": null,
            "overflow_y": null,
            "overflow_x": null,
            "grid_auto_flow": null,
            "grid_area": null,
            "grid_template_columns": null,
            "flex": null,
            "_model_name": "LayoutModel",
            "justify_items": null,
            "grid_row": null,
            "max_height": null,
            "align_content": null,
            "visibility": null,
            "align_self": null,
            "height": null,
            "min_height": null,
            "padding": null,
            "grid_auto_rows": null,
            "grid_gap": null,
            "max_width": null,
            "order": null,
            "_view_module_version": "1.2.0",
            "grid_template_areas": null,
            "object_position": null,
            "object_fit": null,
            "grid_auto_columns": null,
            "margin": null,
            "display": null,
            "left": null
          }
        },
        "626ef077615542738c48f475897ba5dc": {
          "model_module": "@jupyter-widgets/controls",
          "model_name": "HTMLModel",
          "model_module_version": "1.5.0",
          "state": {
            "_view_name": "HTMLView",
            "style": "IPY_MODEL_ee6b446ea1d94846ab7323dc6e74aa7f",
            "_dom_classes": [],
            "description": "",
            "_model_name": "HTMLModel",
            "placeholder": "​",
            "_view_module": "@jupyter-widgets/controls",
            "_model_module_version": "1.5.0",
            "value": "100%",
            "_view_count": null,
            "_view_module_version": "1.5.0",
            "description_tooltip": null,
            "_model_module": "@jupyter-widgets/controls",
            "layout": "IPY_MODEL_f145f73fa02143b39fe723305a6a12e6"
          }
        },
        "5b2191f7951241ca9943c21a92614555": {
          "model_module": "@jupyter-widgets/controls",
          "model_name": "FloatProgressModel",
          "model_module_version": "1.5.0",
          "state": {
            "_view_name": "ProgressView",
            "style": "IPY_MODEL_203ef6c7a38840ada1d1100b6d7b71f5",
            "_dom_classes": [],
            "description": "",
            "_model_name": "FloatProgressModel",
            "bar_style": "success",
            "max": 37,
            "_view_module": "@jupyter-widgets/controls",
            "_model_module_version": "1.5.0",
            "value": 37,
            "_view_count": null,
            "_view_module_version": "1.5.0",
            "orientation": "horizontal",
            "min": 0,
            "description_tooltip": null,
            "_model_module": "@jupyter-widgets/controls",
            "layout": "IPY_MODEL_8a0b645046ff4b908097f11aed91edcd"
          }
        },
        "e7e0e5bfc7aa42b0ad78afacbba77706": {
          "model_module": "@jupyter-widgets/controls",
          "model_name": "HTMLModel",
          "model_module_version": "1.5.0",
          "state": {
            "_view_name": "HTMLView",
            "style": "IPY_MODEL_134f36cc7eed4d7b9006b73519302089",
            "_dom_classes": [],
            "description": "",
            "_model_name": "HTMLModel",
            "placeholder": "​",
            "_view_module": "@jupyter-widgets/controls",
            "_model_module_version": "1.5.0",
            "value": " 37/37 [00:36&lt;00:00,  1.05it/s]",
            "_view_count": null,
            "_view_module_version": "1.5.0",
            "description_tooltip": null,
            "_model_module": "@jupyter-widgets/controls",
            "layout": "IPY_MODEL_deaef735704d432ab0aaaccc0074d187"
          }
        },
        "ee6b446ea1d94846ab7323dc6e74aa7f": {
          "model_module": "@jupyter-widgets/controls",
          "model_name": "DescriptionStyleModel",
          "model_module_version": "1.5.0",
          "state": {
            "_view_name": "StyleView",
            "_model_name": "DescriptionStyleModel",
            "description_width": "",
            "_view_module": "@jupyter-widgets/base",
            "_model_module_version": "1.5.0",
            "_view_count": null,
            "_view_module_version": "1.2.0",
            "_model_module": "@jupyter-widgets/controls"
          }
        },
        "f145f73fa02143b39fe723305a6a12e6": {
          "model_module": "@jupyter-widgets/base",
          "model_name": "LayoutModel",
          "model_module_version": "1.2.0",
          "state": {
            "_view_name": "LayoutView",
            "grid_template_rows": null,
            "right": null,
            "justify_content": null,
            "_view_module": "@jupyter-widgets/base",
            "overflow": null,
            "_model_module_version": "1.2.0",
            "_view_count": null,
            "flex_flow": null,
            "width": null,
            "min_width": null,
            "border": null,
            "align_items": null,
            "bottom": null,
            "_model_module": "@jupyter-widgets/base",
            "top": null,
            "grid_column": null,
            "overflow_y": null,
            "overflow_x": null,
            "grid_auto_flow": null,
            "grid_area": null,
            "grid_template_columns": null,
            "flex": null,
            "_model_name": "LayoutModel",
            "justify_items": null,
            "grid_row": null,
            "max_height": null,
            "align_content": null,
            "visibility": null,
            "align_self": null,
            "height": null,
            "min_height": null,
            "padding": null,
            "grid_auto_rows": null,
            "grid_gap": null,
            "max_width": null,
            "order": null,
            "_view_module_version": "1.2.0",
            "grid_template_areas": null,
            "object_position": null,
            "object_fit": null,
            "grid_auto_columns": null,
            "margin": null,
            "display": null,
            "left": null
          }
        },
        "203ef6c7a38840ada1d1100b6d7b71f5": {
          "model_module": "@jupyter-widgets/controls",
          "model_name": "ProgressStyleModel",
          "model_module_version": "1.5.0",
          "state": {
            "_view_name": "StyleView",
            "_model_name": "ProgressStyleModel",
            "description_width": "",
            "_view_module": "@jupyter-widgets/base",
            "_model_module_version": "1.5.0",
            "_view_count": null,
            "_view_module_version": "1.2.0",
            "bar_color": null,
            "_model_module": "@jupyter-widgets/controls"
          }
        },
        "8a0b645046ff4b908097f11aed91edcd": {
          "model_module": "@jupyter-widgets/base",
          "model_name": "LayoutModel",
          "model_module_version": "1.2.0",
          "state": {
            "_view_name": "LayoutView",
            "grid_template_rows": null,
            "right": null,
            "justify_content": null,
            "_view_module": "@jupyter-widgets/base",
            "overflow": null,
            "_model_module_version": "1.2.0",
            "_view_count": null,
            "flex_flow": null,
            "width": null,
            "min_width": null,
            "border": null,
            "align_items": null,
            "bottom": null,
            "_model_module": "@jupyter-widgets/base",
            "top": null,
            "grid_column": null,
            "overflow_y": null,
            "overflow_x": null,
            "grid_auto_flow": null,
            "grid_area": null,
            "grid_template_columns": null,
            "flex": null,
            "_model_name": "LayoutModel",
            "justify_items": null,
            "grid_row": null,
            "max_height": null,
            "align_content": null,
            "visibility": null,
            "align_self": null,
            "height": null,
            "min_height": null,
            "padding": null,
            "grid_auto_rows": null,
            "grid_gap": null,
            "max_width": null,
            "order": null,
            "_view_module_version": "1.2.0",
            "grid_template_areas": null,
            "object_position": null,
            "object_fit": null,
            "grid_auto_columns": null,
            "margin": null,
            "display": null,
            "left": null
          }
        },
        "134f36cc7eed4d7b9006b73519302089": {
          "model_module": "@jupyter-widgets/controls",
          "model_name": "DescriptionStyleModel",
          "model_module_version": "1.5.0",
          "state": {
            "_view_name": "StyleView",
            "_model_name": "DescriptionStyleModel",
            "description_width": "",
            "_view_module": "@jupyter-widgets/base",
            "_model_module_version": "1.5.0",
            "_view_count": null,
            "_view_module_version": "1.2.0",
            "_model_module": "@jupyter-widgets/controls"
          }
        },
        "deaef735704d432ab0aaaccc0074d187": {
          "model_module": "@jupyter-widgets/base",
          "model_name": "LayoutModel",
          "model_module_version": "1.2.0",
          "state": {
            "_view_name": "LayoutView",
            "grid_template_rows": null,
            "right": null,
            "justify_content": null,
            "_view_module": "@jupyter-widgets/base",
            "overflow": null,
            "_model_module_version": "1.2.0",
            "_view_count": null,
            "flex_flow": null,
            "width": null,
            "min_width": null,
            "border": null,
            "align_items": null,
            "bottom": null,
            "_model_module": "@jupyter-widgets/base",
            "top": null,
            "grid_column": null,
            "overflow_y": null,
            "overflow_x": null,
            "grid_auto_flow": null,
            "grid_area": null,
            "grid_template_columns": null,
            "flex": null,
            "_model_name": "LayoutModel",
            "justify_items": null,
            "grid_row": null,
            "max_height": null,
            "align_content": null,
            "visibility": null,
            "align_self": null,
            "height": null,
            "min_height": null,
            "padding": null,
            "grid_auto_rows": null,
            "grid_gap": null,
            "max_width": null,
            "order": null,
            "_view_module_version": "1.2.0",
            "grid_template_areas": null,
            "object_position": null,
            "object_fit": null,
            "grid_auto_columns": null,
            "margin": null,
            "display": null,
            "left": null
          }
        },
        "1a788af3df29428cbe69c36d7a5bebe4": {
          "model_module": "@jupyter-widgets/controls",
          "model_name": "HBoxModel",
          "model_module_version": "1.5.0",
          "state": {
            "_view_name": "HBoxView",
            "_dom_classes": [],
            "_model_name": "HBoxModel",
            "_view_module": "@jupyter-widgets/controls",
            "_model_module_version": "1.5.0",
            "_view_count": null,
            "_view_module_version": "1.5.0",
            "box_style": "",
            "layout": "IPY_MODEL_ce3079fdb3f842b9a2f52ac98e895ca8",
            "_model_module": "@jupyter-widgets/controls",
            "children": [
              "IPY_MODEL_35ff6b5f44bc49e19b9b31f450d575d8",
              "IPY_MODEL_d5e86c03174c459b800dbe77df2a29b1",
              "IPY_MODEL_99cfe57097024e6195d5441fc6495fa1"
            ]
          }
        },
        "ce3079fdb3f842b9a2f52ac98e895ca8": {
          "model_module": "@jupyter-widgets/base",
          "model_name": "LayoutModel",
          "model_module_version": "1.2.0",
          "state": {
            "_view_name": "LayoutView",
            "grid_template_rows": null,
            "right": null,
            "justify_content": null,
            "_view_module": "@jupyter-widgets/base",
            "overflow": null,
            "_model_module_version": "1.2.0",
            "_view_count": null,
            "flex_flow": null,
            "width": null,
            "min_width": null,
            "border": null,
            "align_items": null,
            "bottom": null,
            "_model_module": "@jupyter-widgets/base",
            "top": null,
            "grid_column": null,
            "overflow_y": null,
            "overflow_x": null,
            "grid_auto_flow": null,
            "grid_area": null,
            "grid_template_columns": null,
            "flex": null,
            "_model_name": "LayoutModel",
            "justify_items": null,
            "grid_row": null,
            "max_height": null,
            "align_content": null,
            "visibility": null,
            "align_self": null,
            "height": null,
            "min_height": null,
            "padding": null,
            "grid_auto_rows": null,
            "grid_gap": null,
            "max_width": null,
            "order": null,
            "_view_module_version": "1.2.0",
            "grid_template_areas": null,
            "object_position": null,
            "object_fit": null,
            "grid_auto_columns": null,
            "margin": null,
            "display": null,
            "left": null
          }
        },
        "35ff6b5f44bc49e19b9b31f450d575d8": {
          "model_module": "@jupyter-widgets/controls",
          "model_name": "HTMLModel",
          "model_module_version": "1.5.0",
          "state": {
            "_view_name": "HTMLView",
            "style": "IPY_MODEL_9a9efda00bed4dd18f901b8417898d0c",
            "_dom_classes": [],
            "description": "",
            "_model_name": "HTMLModel",
            "placeholder": "​",
            "_view_module": "@jupyter-widgets/controls",
            "_model_module_version": "1.5.0",
            "value": "100%",
            "_view_count": null,
            "_view_module_version": "1.5.0",
            "description_tooltip": null,
            "_model_module": "@jupyter-widgets/controls",
            "layout": "IPY_MODEL_397cf52820ab47f08dfc1c18c1f776f5"
          }
        },
        "d5e86c03174c459b800dbe77df2a29b1": {
          "model_module": "@jupyter-widgets/controls",
          "model_name": "FloatProgressModel",
          "model_module_version": "1.5.0",
          "state": {
            "_view_name": "ProgressView",
            "style": "IPY_MODEL_ca82796f2a504bc48cace7423020c0a8",
            "_dom_classes": [],
            "description": "",
            "_model_name": "FloatProgressModel",
            "bar_style": "success",
            "max": 29,
            "_view_module": "@jupyter-widgets/controls",
            "_model_module_version": "1.5.0",
            "value": 29,
            "_view_count": null,
            "_view_module_version": "1.5.0",
            "orientation": "horizontal",
            "min": 0,
            "description_tooltip": null,
            "_model_module": "@jupyter-widgets/controls",
            "layout": "IPY_MODEL_834fbc2354f34cd89161408a7eace693"
          }
        },
        "99cfe57097024e6195d5441fc6495fa1": {
          "model_module": "@jupyter-widgets/controls",
          "model_name": "HTMLModel",
          "model_module_version": "1.5.0",
          "state": {
            "_view_name": "HTMLView",
            "style": "IPY_MODEL_bba4e0e3e74a4e77800536b13aef5388",
            "_dom_classes": [],
            "description": "",
            "_model_name": "HTMLModel",
            "placeholder": "​",
            "_view_module": "@jupyter-widgets/controls",
            "_model_module_version": "1.5.0",
            "value": " 29/29 [00:00&lt;00:00, 682.00it/s]",
            "_view_count": null,
            "_view_module_version": "1.5.0",
            "description_tooltip": null,
            "_model_module": "@jupyter-widgets/controls",
            "layout": "IPY_MODEL_c012ff552a1b47a0ab24f59da3559f24"
          }
        },
        "9a9efda00bed4dd18f901b8417898d0c": {
          "model_module": "@jupyter-widgets/controls",
          "model_name": "DescriptionStyleModel",
          "model_module_version": "1.5.0",
          "state": {
            "_view_name": "StyleView",
            "_model_name": "DescriptionStyleModel",
            "description_width": "",
            "_view_module": "@jupyter-widgets/base",
            "_model_module_version": "1.5.0",
            "_view_count": null,
            "_view_module_version": "1.2.0",
            "_model_module": "@jupyter-widgets/controls"
          }
        },
        "397cf52820ab47f08dfc1c18c1f776f5": {
          "model_module": "@jupyter-widgets/base",
          "model_name": "LayoutModel",
          "model_module_version": "1.2.0",
          "state": {
            "_view_name": "LayoutView",
            "grid_template_rows": null,
            "right": null,
            "justify_content": null,
            "_view_module": "@jupyter-widgets/base",
            "overflow": null,
            "_model_module_version": "1.2.0",
            "_view_count": null,
            "flex_flow": null,
            "width": null,
            "min_width": null,
            "border": null,
            "align_items": null,
            "bottom": null,
            "_model_module": "@jupyter-widgets/base",
            "top": null,
            "grid_column": null,
            "overflow_y": null,
            "overflow_x": null,
            "grid_auto_flow": null,
            "grid_area": null,
            "grid_template_columns": null,
            "flex": null,
            "_model_name": "LayoutModel",
            "justify_items": null,
            "grid_row": null,
            "max_height": null,
            "align_content": null,
            "visibility": null,
            "align_self": null,
            "height": null,
            "min_height": null,
            "padding": null,
            "grid_auto_rows": null,
            "grid_gap": null,
            "max_width": null,
            "order": null,
            "_view_module_version": "1.2.0",
            "grid_template_areas": null,
            "object_position": null,
            "object_fit": null,
            "grid_auto_columns": null,
            "margin": null,
            "display": null,
            "left": null
          }
        },
        "ca82796f2a504bc48cace7423020c0a8": {
          "model_module": "@jupyter-widgets/controls",
          "model_name": "ProgressStyleModel",
          "model_module_version": "1.5.0",
          "state": {
            "_view_name": "StyleView",
            "_model_name": "ProgressStyleModel",
            "description_width": "",
            "_view_module": "@jupyter-widgets/base",
            "_model_module_version": "1.5.0",
            "_view_count": null,
            "_view_module_version": "1.2.0",
            "bar_color": null,
            "_model_module": "@jupyter-widgets/controls"
          }
        },
        "834fbc2354f34cd89161408a7eace693": {
          "model_module": "@jupyter-widgets/base",
          "model_name": "LayoutModel",
          "model_module_version": "1.2.0",
          "state": {
            "_view_name": "LayoutView",
            "grid_template_rows": null,
            "right": null,
            "justify_content": null,
            "_view_module": "@jupyter-widgets/base",
            "overflow": null,
            "_model_module_version": "1.2.0",
            "_view_count": null,
            "flex_flow": null,
            "width": null,
            "min_width": null,
            "border": null,
            "align_items": null,
            "bottom": null,
            "_model_module": "@jupyter-widgets/base",
            "top": null,
            "grid_column": null,
            "overflow_y": null,
            "overflow_x": null,
            "grid_auto_flow": null,
            "grid_area": null,
            "grid_template_columns": null,
            "flex": null,
            "_model_name": "LayoutModel",
            "justify_items": null,
            "grid_row": null,
            "max_height": null,
            "align_content": null,
            "visibility": null,
            "align_self": null,
            "height": null,
            "min_height": null,
            "padding": null,
            "grid_auto_rows": null,
            "grid_gap": null,
            "max_width": null,
            "order": null,
            "_view_module_version": "1.2.0",
            "grid_template_areas": null,
            "object_position": null,
            "object_fit": null,
            "grid_auto_columns": null,
            "margin": null,
            "display": null,
            "left": null
          }
        },
        "bba4e0e3e74a4e77800536b13aef5388": {
          "model_module": "@jupyter-widgets/controls",
          "model_name": "DescriptionStyleModel",
          "model_module_version": "1.5.0",
          "state": {
            "_view_name": "StyleView",
            "_model_name": "DescriptionStyleModel",
            "description_width": "",
            "_view_module": "@jupyter-widgets/base",
            "_model_module_version": "1.5.0",
            "_view_count": null,
            "_view_module_version": "1.2.0",
            "_model_module": "@jupyter-widgets/controls"
          }
        },
        "c012ff552a1b47a0ab24f59da3559f24": {
          "model_module": "@jupyter-widgets/base",
          "model_name": "LayoutModel",
          "model_module_version": "1.2.0",
          "state": {
            "_view_name": "LayoutView",
            "grid_template_rows": null,
            "right": null,
            "justify_content": null,
            "_view_module": "@jupyter-widgets/base",
            "overflow": null,
            "_model_module_version": "1.2.0",
            "_view_count": null,
            "flex_flow": null,
            "width": null,
            "min_width": null,
            "border": null,
            "align_items": null,
            "bottom": null,
            "_model_module": "@jupyter-widgets/base",
            "top": null,
            "grid_column": null,
            "overflow_y": null,
            "overflow_x": null,
            "grid_auto_flow": null,
            "grid_area": null,
            "grid_template_columns": null,
            "flex": null,
            "_model_name": "LayoutModel",
            "justify_items": null,
            "grid_row": null,
            "max_height": null,
            "align_content": null,
            "visibility": null,
            "align_self": null,
            "height": null,
            "min_height": null,
            "padding": null,
            "grid_auto_rows": null,
            "grid_gap": null,
            "max_width": null,
            "order": null,
            "_view_module_version": "1.2.0",
            "grid_template_areas": null,
            "object_position": null,
            "object_fit": null,
            "grid_auto_columns": null,
            "margin": null,
            "display": null,
            "left": null
          }
        },
        "3dc44e9da46c4bc5b96d37987ee8811c": {
          "model_module": "@jupyter-widgets/controls",
          "model_name": "HBoxModel",
          "model_module_version": "1.5.0",
          "state": {
            "_view_name": "HBoxView",
            "_dom_classes": [],
            "_model_name": "HBoxModel",
            "_view_module": "@jupyter-widgets/controls",
            "_model_module_version": "1.5.0",
            "_view_count": null,
            "_view_module_version": "1.5.0",
            "box_style": "",
            "layout": "IPY_MODEL_6e997bbb79d647cabf943eca3e02d706",
            "_model_module": "@jupyter-widgets/controls",
            "children": [
              "IPY_MODEL_0ce40188ba504c04a6d2aceb0b347a9f",
              "IPY_MODEL_646664d6968749448bf498431a36c694",
              "IPY_MODEL_cf65419cb51b4bd5ab7060a6f0ac85ee"
            ]
          }
        },
        "6e997bbb79d647cabf943eca3e02d706": {
          "model_module": "@jupyter-widgets/base",
          "model_name": "LayoutModel",
          "model_module_version": "1.2.0",
          "state": {
            "_view_name": "LayoutView",
            "grid_template_rows": null,
            "right": null,
            "justify_content": null,
            "_view_module": "@jupyter-widgets/base",
            "overflow": null,
            "_model_module_version": "1.2.0",
            "_view_count": null,
            "flex_flow": null,
            "width": null,
            "min_width": null,
            "border": null,
            "align_items": null,
            "bottom": null,
            "_model_module": "@jupyter-widgets/base",
            "top": null,
            "grid_column": null,
            "overflow_y": null,
            "overflow_x": null,
            "grid_auto_flow": null,
            "grid_area": null,
            "grid_template_columns": null,
            "flex": null,
            "_model_name": "LayoutModel",
            "justify_items": null,
            "grid_row": null,
            "max_height": null,
            "align_content": null,
            "visibility": null,
            "align_self": null,
            "height": null,
            "min_height": null,
            "padding": null,
            "grid_auto_rows": null,
            "grid_gap": null,
            "max_width": null,
            "order": null,
            "_view_module_version": "1.2.0",
            "grid_template_areas": null,
            "object_position": null,
            "object_fit": null,
            "grid_auto_columns": null,
            "margin": null,
            "display": null,
            "left": null
          }
        },
        "0ce40188ba504c04a6d2aceb0b347a9f": {
          "model_module": "@jupyter-widgets/controls",
          "model_name": "HTMLModel",
          "model_module_version": "1.5.0",
          "state": {
            "_view_name": "HTMLView",
            "style": "IPY_MODEL_ce1bf4c7389841a9a9dbbed2ba436f5d",
            "_dom_classes": [],
            "description": "",
            "_model_name": "HTMLModel",
            "placeholder": "​",
            "_view_module": "@jupyter-widgets/controls",
            "_model_module_version": "1.5.0",
            "value": "100%",
            "_view_count": null,
            "_view_module_version": "1.5.0",
            "description_tooltip": null,
            "_model_module": "@jupyter-widgets/controls",
            "layout": "IPY_MODEL_e69aa56c8b034da6b152ea44fa2b48c5"
          }
        },
        "646664d6968749448bf498431a36c694": {
          "model_module": "@jupyter-widgets/controls",
          "model_name": "FloatProgressModel",
          "model_module_version": "1.5.0",
          "state": {
            "_view_name": "ProgressView",
            "style": "IPY_MODEL_840278b202374cb892a2dd5dcf35054b",
            "_dom_classes": [],
            "description": "",
            "_model_name": "FloatProgressModel",
            "bar_style": "success",
            "max": 29,
            "_view_module": "@jupyter-widgets/controls",
            "_model_module_version": "1.5.0",
            "value": 29,
            "_view_count": null,
            "_view_module_version": "1.5.0",
            "orientation": "horizontal",
            "min": 0,
            "description_tooltip": null,
            "_model_module": "@jupyter-widgets/controls",
            "layout": "IPY_MODEL_dd25ab768bf34aee9d64cf3470488eac"
          }
        },
        "cf65419cb51b4bd5ab7060a6f0ac85ee": {
          "model_module": "@jupyter-widgets/controls",
          "model_name": "HTMLModel",
          "model_module_version": "1.5.0",
          "state": {
            "_view_name": "HTMLView",
            "style": "IPY_MODEL_eb5478a9c5b54bb9a520ac9e3b3103f4",
            "_dom_classes": [],
            "description": "",
            "_model_name": "HTMLModel",
            "placeholder": "​",
            "_view_module": "@jupyter-widgets/controls",
            "_model_module_version": "1.5.0",
            "value": " 29/29 [00:35&lt;00:00,  1.18s/it]",
            "_view_count": null,
            "_view_module_version": "1.5.0",
            "description_tooltip": null,
            "_model_module": "@jupyter-widgets/controls",
            "layout": "IPY_MODEL_adbbbf464e36469cabc6ce7bdf7339ef"
          }
        },
        "ce1bf4c7389841a9a9dbbed2ba436f5d": {
          "model_module": "@jupyter-widgets/controls",
          "model_name": "DescriptionStyleModel",
          "model_module_version": "1.5.0",
          "state": {
            "_view_name": "StyleView",
            "_model_name": "DescriptionStyleModel",
            "description_width": "",
            "_view_module": "@jupyter-widgets/base",
            "_model_module_version": "1.5.0",
            "_view_count": null,
            "_view_module_version": "1.2.0",
            "_model_module": "@jupyter-widgets/controls"
          }
        },
        "e69aa56c8b034da6b152ea44fa2b48c5": {
          "model_module": "@jupyter-widgets/base",
          "model_name": "LayoutModel",
          "model_module_version": "1.2.0",
          "state": {
            "_view_name": "LayoutView",
            "grid_template_rows": null,
            "right": null,
            "justify_content": null,
            "_view_module": "@jupyter-widgets/base",
            "overflow": null,
            "_model_module_version": "1.2.0",
            "_view_count": null,
            "flex_flow": null,
            "width": null,
            "min_width": null,
            "border": null,
            "align_items": null,
            "bottom": null,
            "_model_module": "@jupyter-widgets/base",
            "top": null,
            "grid_column": null,
            "overflow_y": null,
            "overflow_x": null,
            "grid_auto_flow": null,
            "grid_area": null,
            "grid_template_columns": null,
            "flex": null,
            "_model_name": "LayoutModel",
            "justify_items": null,
            "grid_row": null,
            "max_height": null,
            "align_content": null,
            "visibility": null,
            "align_self": null,
            "height": null,
            "min_height": null,
            "padding": null,
            "grid_auto_rows": null,
            "grid_gap": null,
            "max_width": null,
            "order": null,
            "_view_module_version": "1.2.0",
            "grid_template_areas": null,
            "object_position": null,
            "object_fit": null,
            "grid_auto_columns": null,
            "margin": null,
            "display": null,
            "left": null
          }
        },
        "840278b202374cb892a2dd5dcf35054b": {
          "model_module": "@jupyter-widgets/controls",
          "model_name": "ProgressStyleModel",
          "model_module_version": "1.5.0",
          "state": {
            "_view_name": "StyleView",
            "_model_name": "ProgressStyleModel",
            "description_width": "",
            "_view_module": "@jupyter-widgets/base",
            "_model_module_version": "1.5.0",
            "_view_count": null,
            "_view_module_version": "1.2.0",
            "bar_color": null,
            "_model_module": "@jupyter-widgets/controls"
          }
        },
        "dd25ab768bf34aee9d64cf3470488eac": {
          "model_module": "@jupyter-widgets/base",
          "model_name": "LayoutModel",
          "model_module_version": "1.2.0",
          "state": {
            "_view_name": "LayoutView",
            "grid_template_rows": null,
            "right": null,
            "justify_content": null,
            "_view_module": "@jupyter-widgets/base",
            "overflow": null,
            "_model_module_version": "1.2.0",
            "_view_count": null,
            "flex_flow": null,
            "width": null,
            "min_width": null,
            "border": null,
            "align_items": null,
            "bottom": null,
            "_model_module": "@jupyter-widgets/base",
            "top": null,
            "grid_column": null,
            "overflow_y": null,
            "overflow_x": null,
            "grid_auto_flow": null,
            "grid_area": null,
            "grid_template_columns": null,
            "flex": null,
            "_model_name": "LayoutModel",
            "justify_items": null,
            "grid_row": null,
            "max_height": null,
            "align_content": null,
            "visibility": null,
            "align_self": null,
            "height": null,
            "min_height": null,
            "padding": null,
            "grid_auto_rows": null,
            "grid_gap": null,
            "max_width": null,
            "order": null,
            "_view_module_version": "1.2.0",
            "grid_template_areas": null,
            "object_position": null,
            "object_fit": null,
            "grid_auto_columns": null,
            "margin": null,
            "display": null,
            "left": null
          }
        },
        "eb5478a9c5b54bb9a520ac9e3b3103f4": {
          "model_module": "@jupyter-widgets/controls",
          "model_name": "DescriptionStyleModel",
          "model_module_version": "1.5.0",
          "state": {
            "_view_name": "StyleView",
            "_model_name": "DescriptionStyleModel",
            "description_width": "",
            "_view_module": "@jupyter-widgets/base",
            "_model_module_version": "1.5.0",
            "_view_count": null,
            "_view_module_version": "1.2.0",
            "_model_module": "@jupyter-widgets/controls"
          }
        },
        "adbbbf464e36469cabc6ce7bdf7339ef": {
          "model_module": "@jupyter-widgets/base",
          "model_name": "LayoutModel",
          "model_module_version": "1.2.0",
          "state": {
            "_view_name": "LayoutView",
            "grid_template_rows": null,
            "right": null,
            "justify_content": null,
            "_view_module": "@jupyter-widgets/base",
            "overflow": null,
            "_model_module_version": "1.2.0",
            "_view_count": null,
            "flex_flow": null,
            "width": null,
            "min_width": null,
            "border": null,
            "align_items": null,
            "bottom": null,
            "_model_module": "@jupyter-widgets/base",
            "top": null,
            "grid_column": null,
            "overflow_y": null,
            "overflow_x": null,
            "grid_auto_flow": null,
            "grid_area": null,
            "grid_template_columns": null,
            "flex": null,
            "_model_name": "LayoutModel",
            "justify_items": null,
            "grid_row": null,
            "max_height": null,
            "align_content": null,
            "visibility": null,
            "align_self": null,
            "height": null,
            "min_height": null,
            "padding": null,
            "grid_auto_rows": null,
            "grid_gap": null,
            "max_width": null,
            "order": null,
            "_view_module_version": "1.2.0",
            "grid_template_areas": null,
            "object_position": null,
            "object_fit": null,
            "grid_auto_columns": null,
            "margin": null,
            "display": null,
            "left": null
          }
        }
      }
    }
  },
  "cells": [
    {
      "cell_type": "markdown",
      "metadata": {
        "id": "view-in-github",
        "colab_type": "text"
      },
      "source": [
        "<a href=\"https://colab.research.google.com/github/ADGVLOGS/Cape-Town-Project/blob/main/DurbanvilleSuburbs.ipynb\" target=\"_parent\"><img src=\"https://colab.research.google.com/assets/colab-badge.svg\" alt=\"Open In Colab\"/></a>"
      ]
    },
    {
      "cell_type": "markdown",
      "metadata": {
        "id": "Ve25WijVkTcs"
      },
      "source": [
        "Raw Data and Importing"
      ]
    },
    {
      "cell_type": "code",
      "metadata": {
        "id": "GbGhVsftekyN"
      },
      "source": [
        "import folium\n",
        "import re\n",
        "#locations\n",
        "tablemountainlatandlong = [-33.903294897303354, 18.420746651123252]\n",
        "\n",
        "#suburbs\n",
        "suburbs = [\"Amanda Glen (Residential)\",\n",
        "\"Aurora (Residential)\",\n",
        "\"Avalon Estate (Residential)\",\n",
        "\"Bergsig (Residential)\",\n",
        "\"Brentwood Park (Residential)\",\n",
        "\"Country Places (Residential)\",\n",
        "\"D'urbanvale (Residential)\",\n",
        "\"Durbanville Hills (Residential)\",\n",
        "\"Durbell (Residential)\",\n",
        "\"Durmonte (Residential)\",\n",
        "\"Everglen (Residential)\",\n",
        "\"Eversdal (Residential)\",\n",
        "\"Eversdal Heights (Residential)\",\n",
        "\"Goedemoed (Residential)\",\n",
        "\"Graanendal (Residential)\",\n",
        "\"Halali (Residential)\",\n",
        "\"Kenridge (Residential)\",\n",
        "\"Kenridge Heights (Residential)\",\n",
        "\"Klein Nederburg (Residential)\",\n",
        "\"Langeberg Village (Residential)\",\n",
        "\"Morningstar (Residential)\",\n",
        "\"Pinehurst (Residential)\",\n",
        "\"Proteaville (Residential)\",\n",
        "\"Rosedale (Residential)\",\n",
        "\"Schoongezicht (Residential)\",\n",
        "\"Sonstraal (Residential)\",\n",
        "\"Sonstraal Heights (Residential)\",\n",
        "\"Tara (Residential)\",\n",
        "\"The Crest (Residential)\",\n",
        "\"Uitzicht (Residential)\",\n",
        "\"Valmary Park (Residential)\",\n",
        "\"Vergesig (Residential)\",\n",
        "\"Vierlanden (Residential)\",\n",
        "\"Vygeboom (Residential)\",\n",
        "\"Welgevonden Estate (Residential)\",\n",
        "\"Wellway Park (Residential)\",\n",
        "\"Wellway Park East (Residential)\"]\n",
        "\n",
        "\n",
        "# Cleaning our suburbs to remove brackets from list\n",
        "for index,suburb in enumerate(suburbs):\n",
        "    suburbs[index] = re.sub(\"[\\(\\[].*?[\\)\\]]\", \"\", suburb)"
      ],
      "execution_count": null,
      "outputs": []
    },
    {
      "cell_type": "code",
      "metadata": {
        "colab": {
          "base_uri": "https://localhost:8080/"
        },
        "id": "d6FFt35WfHHG",
        "outputId": "a09c599f-495c-4c63-bf40-6c02f55e0705"
      },
      "source": [
        "len(suburbs)"
      ],
      "execution_count": null,
      "outputs": [
        {
          "output_type": "execute_result",
          "data": {
            "text/plain": [
              "37"
            ]
          },
          "metadata": {},
          "execution_count": 68
        }
      ]
    },
    {
      "cell_type": "markdown",
      "metadata": {
        "id": "jjuTT59XmtAI"
      },
      "source": [
        "# Features Engineering"
      ]
    },
    {
      "cell_type": "markdown",
      "metadata": {
        "id": "q7isdZ4SnAd0"
      },
      "source": [
        "#### Adding (Lat and Long) and Distance between Table Mountain to our dataset\n"
      ]
    },
    {
      "cell_type": "markdown",
      "metadata": {
        "id": "_hiz5R7LnZ_r"
      },
      "source": [
        "<h5>Haversine's Formula to calculate distance between two lat and two long points on the Earth</h5>\n",
        "<img src = \"https://user-images.githubusercontent.com/2789198/27240436-e9a459da-52d4-11e7-8f84-f96d0b312859.png\">"
      ]
    },
    {
      "cell_type": "code",
      "metadata": {
        "id": "BxGzg-6FmrJ_"
      },
      "source": [
        "from math import radians, cos, sin, asin, sqrt\n",
        "\n",
        "def haversine(lon1, lat1, lon2, lat2):\n",
        "    \"\"\"\n",
        "    Calculate the great circle distance in kilometers between two points \n",
        "    on the earth (specified in decimal degrees)\n",
        "    \"\"\"\n",
        "    # convert decimal degrees to radians \n",
        "    lon1, lat1, lon2, lat2 = map(radians, [lon1, lat1, lon2, lat2])\n",
        "\n",
        "    # haversine formula \n",
        "    dlon = lon2 - lon1 \n",
        "    dlat = lat2 - lat1 \n",
        "    a = sin(dlat/2)**2 + cos(lat1) * cos(lat2) * sin(dlon/2)**2\n",
        "    c = 2 * asin(sqrt(a)) \n",
        "    r = 6371\n",
        "    return c * r"
      ],
      "execution_count": null,
      "outputs": []
    },
    {
      "cell_type": "markdown",
      "metadata": {
        "id": "fytFSHWInua0"
      },
      "source": [
        "#### Generating lat and long for our Cape Town Suburbs"
      ]
    },
    {
      "cell_type": "code",
      "metadata": {
        "id": "I-Et4YCSn25a"
      },
      "source": [
        "from geopy.geocoders import Nominatim\n",
        "import time\n",
        "from pprint import pprint\n",
        "\n",
        "def ReturnLatAndLongOfSuburb(suburb):\n",
        "  app = Nominatim(user_agent=\"adg-csresearch\")\n",
        "  location = app.geocode(suburb + ' , Cape Town').raw\n",
        "  data = []\n",
        "  for key,value in location.items():\n",
        "      if key == 'lat':\n",
        "        data.append(value)\n",
        "      if key == 'lon':\n",
        "        data.append(value)\n",
        "  return data"
      ],
      "execution_count": null,
      "outputs": []
    },
    {
      "cell_type": "code",
      "metadata": {
        "colab": {
          "base_uri": "https://localhost:8080/"
        },
        "id": "kXyBI8RFqEik",
        "outputId": "b6703563-232a-4770-81c1-a2e68ec0ad0d"
      },
      "source": [
        "!pip install tqdm"
      ],
      "execution_count": null,
      "outputs": [
        {
          "output_type": "stream",
          "name": "stdout",
          "text": [
            "Requirement already satisfied: tqdm in /usr/local/lib/python3.7/dist-packages (4.62.3)\n"
          ]
        }
      ]
    },
    {
      "cell_type": "markdown",
      "metadata": {
        "id": "lbvAr_KfqZtS"
      },
      "source": [
        "### Performing Calculations"
      ]
    },
    {
      "cell_type": "markdown",
      "metadata": {
        "id": "vNChF2NFrshj"
      },
      "source": [
        "This block calculates the Lat and Long for all Cape Town Suburbs"
      ]
    },
    {
      "cell_type": "code",
      "metadata": {
        "colab": {
          "base_uri": "https://localhost:8080/",
          "height": 185,
          "referenced_widgets": [
            "503a096a1f5543f7ba04a6304d1a99cf",
            "33d66067ee8b4ae088952618c7c3cb29",
            "626ef077615542738c48f475897ba5dc",
            "5b2191f7951241ca9943c21a92614555",
            "e7e0e5bfc7aa42b0ad78afacbba77706",
            "ee6b446ea1d94846ab7323dc6e74aa7f",
            "f145f73fa02143b39fe723305a6a12e6",
            "203ef6c7a38840ada1d1100b6d7b71f5",
            "8a0b645046ff4b908097f11aed91edcd",
            "134f36cc7eed4d7b9006b73519302089",
            "deaef735704d432ab0aaaccc0074d187"
          ]
        },
        "id": "mWb4omdRpZ1Y",
        "outputId": "e4c71925-17b7-4553-baef-dd34b14fdc4c"
      },
      "source": [
        "from tqdm.notebook import tqdm\n",
        "lat = []\n",
        "long = []\n",
        "newsuburb = []\n",
        "for index,suburb in enumerate(tqdm(suburbs)):\n",
        "    try:\n",
        "        data = ReturnLatAndLongOfSuburb(suburb)\n",
        "        lat.append(data[0])\n",
        "        long.append(data[1])\n",
        "        newsuburb.append(suburb)\n",
        "    except Exception as e:\n",
        "        print('Error:','removing {0} suburb from dataset as lat and long cannot be processed'.format(suburb))"
      ],
      "execution_count": null,
      "outputs": [
        {
          "output_type": "display_data",
          "data": {
            "application/vnd.jupyter.widget-view+json": {
              "model_id": "503a096a1f5543f7ba04a6304d1a99cf",
              "version_minor": 0,
              "version_major": 2
            },
            "text/plain": [
              "  0%|          | 0/37 [00:00<?, ?it/s]"
            ]
          },
          "metadata": {}
        },
        {
          "output_type": "stream",
          "name": "stdout",
          "text": [
            "Error: removing Country Places  suburb from dataset as lat and long cannot be processed\n",
            "Error: removing D'urbanvale  suburb from dataset as lat and long cannot be processed\n",
            "Error: removing Eversdal Heights  suburb from dataset as lat and long cannot be processed\n",
            "Error: removing Halali  suburb from dataset as lat and long cannot be processed\n",
            "Error: removing Klein Nederburg  suburb from dataset as lat and long cannot be processed\n",
            "Error: removing Sonstraal Heights  suburb from dataset as lat and long cannot be processed\n",
            "Error: removing Wellway Park  suburb from dataset as lat and long cannot be processed\n",
            "Error: removing Wellway Park East  suburb from dataset as lat and long cannot be processed\n"
          ]
        }
      ]
    },
    {
      "cell_type": "markdown",
      "metadata": {
        "id": "iMRplJh4s2sY"
      },
      "source": [
        "Working out distances from Table Mountain to the Suburbs"
      ]
    },
    {
      "cell_type": "code",
      "metadata": {
        "colab": {
          "base_uri": "https://localhost:8080/",
          "height": 49,
          "referenced_widgets": [
            "1a788af3df29428cbe69c36d7a5bebe4",
            "ce3079fdb3f842b9a2f52ac98e895ca8",
            "35ff6b5f44bc49e19b9b31f450d575d8",
            "d5e86c03174c459b800dbe77df2a29b1",
            "99cfe57097024e6195d5441fc6495fa1",
            "9a9efda00bed4dd18f901b8417898d0c",
            "397cf52820ab47f08dfc1c18c1f776f5",
            "ca82796f2a504bc48cace7423020c0a8",
            "834fbc2354f34cd89161408a7eace693",
            "bba4e0e3e74a4e77800536b13aef5388",
            "c012ff552a1b47a0ab24f59da3559f24"
          ]
        },
        "id": "4z9sl92DsPfa",
        "outputId": "edbdb2bc-ccda-4b9a-e1c9-b8937874cd77"
      },
      "source": [
        "distance = []\n",
        "\n",
        "for index,suburb in enumerate(tqdm(newsuburb)):\n",
        "    distance.append(haversine(-33.903294897303354, 18.420746651123252,float(lat[index]),float(long[index])))"
      ],
      "execution_count": null,
      "outputs": [
        {
          "output_type": "display_data",
          "data": {
            "application/vnd.jupyter.widget-view+json": {
              "model_id": "1a788af3df29428cbe69c36d7a5bebe4",
              "version_minor": 0,
              "version_major": 2
            },
            "text/plain": [
              "  0%|          | 0/29 [00:00<?, ?it/s]"
            ]
          },
          "metadata": {}
        }
      ]
    },
    {
      "cell_type": "markdown",
      "metadata": {
        "id": "jXRjaKCFtDct"
      },
      "source": [
        "### Our final dataset we have compiled for this report"
      ]
    },
    {
      "cell_type": "markdown",
      "metadata": {
        "id": "6ZE73aVGdxSt"
      },
      "source": [
        "# Calculating Elevation for Suburbs\n",
        "\n"
      ]
    },
    {
      "cell_type": "markdown",
      "metadata": {
        "id": "EkwxW1LMhmy3"
      },
      "source": [
        "[API Documentation - Open Elevation](https://github.com/Jorl17/open-elevation/blob/master/docs/api.md)"
      ]
    },
    {
      "cell_type": "code",
      "metadata": {
        "id": "0C8LOyJieGZh"
      },
      "source": [
        "import requests\n",
        "def ReturnElevation(lat,long):\n",
        "  r = requests.get('https://api.open-elevation.com/api/v1/lookup?locations={0},{1}'.format(lat,long))\n",
        "  data = r.json()\n",
        "  for key,info in data.items():\n",
        "      if key == 'results':\n",
        "          return info[0].get('elevation')"
      ],
      "execution_count": null,
      "outputs": []
    },
    {
      "cell_type": "code",
      "metadata": {
        "colab": {
          "base_uri": "https://localhost:8080/",
          "height": 49,
          "referenced_widgets": [
            "3dc44e9da46c4bc5b96d37987ee8811c",
            "6e997bbb79d647cabf943eca3e02d706",
            "0ce40188ba504c04a6d2aceb0b347a9f",
            "646664d6968749448bf498431a36c694",
            "cf65419cb51b4bd5ab7060a6f0ac85ee",
            "ce1bf4c7389841a9a9dbbed2ba436f5d",
            "e69aa56c8b034da6b152ea44fa2b48c5",
            "840278b202374cb892a2dd5dcf35054b",
            "dd25ab768bf34aee9d64cf3470488eac",
            "eb5478a9c5b54bb9a520ac9e3b3103f4",
            "adbbbf464e36469cabc6ce7bdf7339ef"
          ]
        },
        "id": "55QBd_h1iJXa",
        "outputId": "60d024f5-9fb9-4b90-a01e-e3dfee202724"
      },
      "source": [
        "elevation = []\n",
        "\n",
        "for index,suburb in enumerate(tqdm(newsuburb)):\n",
        "    elevation.append(ReturnElevation(float(lat[index]),float(long[index])))"
      ],
      "execution_count": null,
      "outputs": [
        {
          "output_type": "display_data",
          "data": {
            "application/vnd.jupyter.widget-view+json": {
              "model_id": "3dc44e9da46c4bc5b96d37987ee8811c",
              "version_minor": 0,
              "version_major": 2
            },
            "text/plain": [
              "  0%|          | 0/29 [00:00<?, ?it/s]"
            ]
          },
          "metadata": {}
        }
      ]
    },
    {
      "cell_type": "code",
      "metadata": {
        "colab": {
          "base_uri": "https://localhost:8080/",
          "height": 948
        },
        "id": "HFaDebXutCLE",
        "outputId": "3be09c5c-8a30-4bfb-fc85-12d63bb8fc12"
      },
      "source": [
        "import pandas as pd\n",
        "import numpy as np\n",
        "\n",
        "df = pd.DataFrame(list(zip(newsuburb, lat,long,distance,elevation)),\n",
        "               columns =['Suburb', 'Latitude','Longtitude','Distance(KM)','Height above sea level(m)'])\n",
        "df = df.drop_duplicates(subset=['Suburb'])\n",
        "df = df.sort_values(by='Distance(KM)',ascending=True)\n",
        "df = df.sort_values(by='Height above sea level(m)',ascending=False)\n",
        "df.to_csv('Durbanville.csv')\n",
        "df"
      ],
      "execution_count": null,
      "outputs": [
        {
          "output_type": "execute_result",
          "data": {
            "text/html": [
              "<div>\n",
              "<style scoped>\n",
              "    .dataframe tbody tr th:only-of-type {\n",
              "        vertical-align: middle;\n",
              "    }\n",
              "\n",
              "    .dataframe tbody tr th {\n",
              "        vertical-align: top;\n",
              "    }\n",
              "\n",
              "    .dataframe thead th {\n",
              "        text-align: right;\n",
              "    }\n",
              "</style>\n",
              "<table border=\"1\" class=\"dataframe\">\n",
              "  <thead>\n",
              "    <tr style=\"text-align: right;\">\n",
              "      <th></th>\n",
              "      <th>Suburb</th>\n",
              "      <th>Latitude</th>\n",
              "      <th>Longtitude</th>\n",
              "      <th>Distance(KM)</th>\n",
              "      <th>Height above sea level(m)</th>\n",
              "    </tr>\n",
              "  </thead>\n",
              "  <tbody>\n",
              "    <tr>\n",
              "      <th>5</th>\n",
              "      <td>Durbanville Hills</td>\n",
              "      <td>-33.8480556</td>\n",
              "      <td>18.6386111</td>\n",
              "      <td>24.915635</td>\n",
              "      <td>237</td>\n",
              "    </tr>\n",
              "    <tr>\n",
              "      <th>25</th>\n",
              "      <td>Vergesig</td>\n",
              "      <td>-33.8394693</td>\n",
              "      <td>18.6310927</td>\n",
              "      <td>24.338205</td>\n",
              "      <td>235</td>\n",
              "    </tr>\n",
              "    <tr>\n",
              "      <th>1</th>\n",
              "      <td>Aurora</td>\n",
              "      <td>-33.8302778</td>\n",
              "      <td>18.6319444</td>\n",
              "      <td>24.713736</td>\n",
              "      <td>201</td>\n",
              "    </tr>\n",
              "    <tr>\n",
              "      <th>8</th>\n",
              "      <td>Everglen</td>\n",
              "      <td>-33.8536048</td>\n",
              "      <td>18.6475955</td>\n",
              "      <td>25.762696</td>\n",
              "      <td>179</td>\n",
              "    </tr>\n",
              "    <tr>\n",
              "      <th>6</th>\n",
              "      <td>Durbell</td>\n",
              "      <td>-33.8586778</td>\n",
              "      <td>18.6129234</td>\n",
              "      <td>21.880779</td>\n",
              "      <td>176</td>\n",
              "    </tr>\n",
              "    <tr>\n",
              "      <th>12</th>\n",
              "      <td>Kenridge</td>\n",
              "      <td>-33.8580556</td>\n",
              "      <td>18.6372222</td>\n",
              "      <td>24.538978</td>\n",
              "      <td>173</td>\n",
              "    </tr>\n",
              "    <tr>\n",
              "      <th>23</th>\n",
              "      <td>Uitzicht</td>\n",
              "      <td>-33.8815205</td>\n",
              "      <td>18.6182608</td>\n",
              "      <td>22.082240</td>\n",
              "      <td>164</td>\n",
              "    </tr>\n",
              "    <tr>\n",
              "      <th>9</th>\n",
              "      <td>Eversdal</td>\n",
              "      <td>-33.8616667</td>\n",
              "      <td>18.6486111</td>\n",
              "      <td>25.714655</td>\n",
              "      <td>161</td>\n",
              "    </tr>\n",
              "    <tr>\n",
              "      <th>13</th>\n",
              "      <td>Kenridge Heights</td>\n",
              "      <td>38.5867699</td>\n",
              "      <td>-90.3334527</td>\n",
              "      <td>12066.959988</td>\n",
              "      <td>157</td>\n",
              "    </tr>\n",
              "    <tr>\n",
              "      <th>19</th>\n",
              "      <td>Schoongezicht</td>\n",
              "      <td>-33.8169444</td>\n",
              "      <td>18.6475</td>\n",
              "      <td>26.806990</td>\n",
              "      <td>157</td>\n",
              "    </tr>\n",
              "    <tr>\n",
              "      <th>17</th>\n",
              "      <td>Proteaville</td>\n",
              "      <td>-33.8197486</td>\n",
              "      <td>18.6564128</td>\n",
              "      <td>27.645508</td>\n",
              "      <td>155</td>\n",
              "    </tr>\n",
              "    <tr>\n",
              "      <th>3</th>\n",
              "      <td>Bergsig</td>\n",
              "      <td>-33.820452849999995</td>\n",
              "      <td>18.658273125012826</td>\n",
              "      <td>27.818252</td>\n",
              "      <td>155</td>\n",
              "    </tr>\n",
              "    <tr>\n",
              "      <th>24</th>\n",
              "      <td>Valmary Park</td>\n",
              "      <td>-33.8458322</td>\n",
              "      <td>18.6509295</td>\n",
              "      <td>26.302338</td>\n",
              "      <td>154</td>\n",
              "    </tr>\n",
              "    <tr>\n",
              "      <th>26</th>\n",
              "      <td>Vierlanden</td>\n",
              "      <td>-33.8134647</td>\n",
              "      <td>18.6576526</td>\n",
              "      <td>27.993331</td>\n",
              "      <td>147</td>\n",
              "    </tr>\n",
              "    <tr>\n",
              "      <th>14</th>\n",
              "      <td>Langeberg Village</td>\n",
              "      <td>-33.8701683</td>\n",
              "      <td>18.6522183</td>\n",
              "      <td>25.974332</td>\n",
              "      <td>133</td>\n",
              "    </tr>\n",
              "    <tr>\n",
              "      <th>28</th>\n",
              "      <td>Welgevonden Estate</td>\n",
              "      <td>-33.899095</td>\n",
              "      <td>18.8476414</td>\n",
              "      <td>47.470593</td>\n",
              "      <td>132</td>\n",
              "    </tr>\n",
              "    <tr>\n",
              "      <th>27</th>\n",
              "      <td>Vygeboom</td>\n",
              "      <td>-33.84611275</td>\n",
              "      <td>18.654999850652167</td>\n",
              "      <td>26.736274</td>\n",
              "      <td>131</td>\n",
              "    </tr>\n",
              "    <tr>\n",
              "      <th>10</th>\n",
              "      <td>Goedemoed</td>\n",
              "      <td>-33.8261111</td>\n",
              "      <td>18.6727778</td>\n",
              "      <td>29.181900</td>\n",
              "      <td>121</td>\n",
              "    </tr>\n",
              "    <tr>\n",
              "      <th>0</th>\n",
              "      <td>Amanda Glen</td>\n",
              "      <td>-33.8527778</td>\n",
              "      <td>18.6597222</td>\n",
              "      <td>27.101301</td>\n",
              "      <td>114</td>\n",
              "    </tr>\n",
              "    <tr>\n",
              "      <th>11</th>\n",
              "      <td>Graanendal</td>\n",
              "      <td>-33.81488835</td>\n",
              "      <td>18.674364974956454</td>\n",
              "      <td>29.701150</td>\n",
              "      <td>114</td>\n",
              "    </tr>\n",
              "    <tr>\n",
              "      <th>20</th>\n",
              "      <td>Sonstraal</td>\n",
              "      <td>-33.848535</td>\n",
              "      <td>18.660994115212755</td>\n",
              "      <td>27.330954</td>\n",
              "      <td>111</td>\n",
              "    </tr>\n",
              "    <tr>\n",
              "      <th>21</th>\n",
              "      <td>Tara</td>\n",
              "      <td>-33.8366667</td>\n",
              "      <td>18.6694444</td>\n",
              "      <td>28.532023</td>\n",
              "      <td>104</td>\n",
              "    </tr>\n",
              "    <tr>\n",
              "      <th>7</th>\n",
              "      <td>Durmonte</td>\n",
              "      <td>-33.8107289</td>\n",
              "      <td>18.667506285072122</td>\n",
              "      <td>29.122055</td>\n",
              "      <td>104</td>\n",
              "    </tr>\n",
              "    <tr>\n",
              "      <th>15</th>\n",
              "      <td>Morningstar</td>\n",
              "      <td>-33.7483019</td>\n",
              "      <td>18.5427689</td>\n",
              "      <td>21.243230</td>\n",
              "      <td>82</td>\n",
              "    </tr>\n",
              "    <tr>\n",
              "      <th>16</th>\n",
              "      <td>Pinehurst</td>\n",
              "      <td>-34.0020257</td>\n",
              "      <td>18.468455397713413</td>\n",
              "      <td>11.687709</td>\n",
              "      <td>74</td>\n",
              "    </tr>\n",
              "    <tr>\n",
              "      <th>4</th>\n",
              "      <td>Brentwood Park</td>\n",
              "      <td>-33.9833333</td>\n",
              "      <td>18.6583333</td>\n",
              "      <td>27.733250</td>\n",
              "      <td>38</td>\n",
              "    </tr>\n",
              "    <tr>\n",
              "      <th>18</th>\n",
              "      <td>Rosedale</td>\n",
              "      <td>-33.9561961</td>\n",
              "      <td>18.473817373599303</td>\n",
              "      <td>8.121664</td>\n",
              "      <td>11</td>\n",
              "    </tr>\n",
              "    <tr>\n",
              "      <th>2</th>\n",
              "      <td>Avalon Estate</td>\n",
              "      <td>51.0547804</td>\n",
              "      <td>3.7177237</td>\n",
              "      <td>9345.710270</td>\n",
              "      <td>10</td>\n",
              "    </tr>\n",
              "    <tr>\n",
              "      <th>22</th>\n",
              "      <td>The Crest</td>\n",
              "      <td>-33.91787295</td>\n",
              "      <td>18.45869990750694</td>\n",
              "      <td>4.491651</td>\n",
              "      <td>6</td>\n",
              "    </tr>\n",
              "  </tbody>\n",
              "</table>\n",
              "</div>"
            ],
            "text/plain": [
              "                 Suburb  ... Height above sea level(m)\n",
              "5    Durbanville Hills   ...                       237\n",
              "25            Vergesig   ...                       235\n",
              "1               Aurora   ...                       201\n",
              "8             Everglen   ...                       179\n",
              "6              Durbell   ...                       176\n",
              "12            Kenridge   ...                       173\n",
              "23            Uitzicht   ...                       164\n",
              "9             Eversdal   ...                       161\n",
              "13    Kenridge Heights   ...                       157\n",
              "19       Schoongezicht   ...                       157\n",
              "17         Proteaville   ...                       155\n",
              "3              Bergsig   ...                       155\n",
              "24        Valmary Park   ...                       154\n",
              "26          Vierlanden   ...                       147\n",
              "14   Langeberg Village   ...                       133\n",
              "28  Welgevonden Estate   ...                       132\n",
              "27            Vygeboom   ...                       131\n",
              "10           Goedemoed   ...                       121\n",
              "0          Amanda Glen   ...                       114\n",
              "11          Graanendal   ...                       114\n",
              "20           Sonstraal   ...                       111\n",
              "21                Tara   ...                       104\n",
              "7             Durmonte   ...                       104\n",
              "15         Morningstar   ...                        82\n",
              "16           Pinehurst   ...                        74\n",
              "4       Brentwood Park   ...                        38\n",
              "18            Rosedale   ...                        11\n",
              "2        Avalon Estate   ...                        10\n",
              "22           The Crest   ...                         6\n",
              "\n",
              "[29 rows x 5 columns]"
            ]
          },
          "metadata": {},
          "execution_count": 81
        }
      ]
    },
    {
      "cell_type": "markdown",
      "metadata": {
        "id": "j90Guob1vOdZ"
      },
      "source": [
        "# Now the fun part visualizing the dataset"
      ]
    },
    {
      "cell_type": "markdown",
      "metadata": {
        "id": "2WFFsiOqc26P"
      },
      "source": [
        ""
      ]
    },
    {
      "cell_type": "markdown",
      "metadata": {
        "id": "NqhTWPUAwYkH"
      },
      "source": [
        "Generating our map"
      ]
    },
    {
      "cell_type": "code",
      "metadata": {
        "colab": {
          "base_uri": "https://localhost:8080/"
        },
        "id": "JEjg8rS-wX_e",
        "outputId": "2eae49f7-316d-44fa-ce0b-e112f20919e5"
      },
      "source": [
        "m = folium.Map(location=tablemountainlatandlong)\n",
        "folium.Circle([-33.967375918362606, 18.416404913543296],\n",
        "                    radius=1250\n",
        "                   ).add_to(m)"
      ],
      "execution_count": null,
      "outputs": [
        {
          "output_type": "execute_result",
          "data": {
            "text/plain": [
              "<folium.vector_layers.Circle at 0x7f4414cae7d0>"
            ]
          },
          "metadata": {},
          "execution_count": 77
        }
      ]
    },
    {
      "cell_type": "markdown",
      "metadata": {
        "id": "cMK2exDivfvr"
      },
      "source": [
        "Drawing circles around suburbs"
      ]
    },
    {
      "cell_type": "code",
      "metadata": {
        "id": "DNsTAE-nyDG_"
      },
      "source": [
        "m = folium.Map(location=tablemountainlatandlong)\n",
        "\n",
        "m.add_child(folium.Circle([-33.903294897303354, 18.420746651123252],\n",
        "                    radius=1250\n",
        "                   ).add_to(m))\n",
        "for index, row in df.iterrows():\n",
        "    text = 'Suburb: {0}\\n\\n\\n\\n\\n\\nDistance from  V&A Waterfront: {1}\\n\\n\\n\\n\\n\\n\\n\\n\\n\\nHeight above sea level(m): {2}'.format(str(row['Suburb']),str(row['Distance(KM)'])+'KM',row['Height above sea level(m)'])\n",
        "    m.add_child(folium.Marker([float(row['Latitude']),float(row['Longtitude'])],popup=text,tooltip='Click for more information!'))"
      ],
      "execution_count": null,
      "outputs": []
    },
    {
      "cell_type": "code",
      "metadata": {
        "colab": {
          "base_uri": "https://localhost:8080/",
          "height": 915
        },
        "id": "qucCUYyZdQ9P",
        "outputId": "59e387d2-65da-4321-851c-80fa112cca4b"
      },
      "source": [
        "m"
      ],
      "execution_count": null,
      "outputs": [
        {
          "output_type": "execute_result",
          "data": {
            "text/html": [
              "<div style=\"width:100%;\"><div style=\"position:relative;width:100%;height:0;padding-bottom:60%;\"><span style=\"color:#565656\">Make this Notebook Trusted to load map: File -> Trust Notebook</span><iframe src=\"about:blank\" style=\"position:absolute;width:100%;height:100%;left:0;top:0;border:none !important;\" data-html=%3C%21DOCTYPE%20html%3E%0A%3Chead%3E%20%20%20%20%0A%20%20%20%20%3Cmeta%20http-equiv%3D%22content-type%22%20content%3D%22text/html%3B%20charset%3DUTF-8%22%20/%3E%0A%20%20%20%20%3Cscript%3EL_PREFER_CANVAS%3Dfalse%3B%20L_NO_TOUCH%3Dfalse%3B%20L_DISABLE_3D%3Dfalse%3B%3C/script%3E%0A%20%20%20%20%3Cscript%20src%3D%22https%3A//cdn.jsdelivr.net/npm/leaflet%401.4.0/dist/leaflet.js%22%3E%3C/script%3E%0A%20%20%20%20%3Cscript%20src%3D%22https%3A//code.jquery.com/jquery-1.12.4.min.js%22%3E%3C/script%3E%0A%20%20%20%20%3Cscript%20src%3D%22https%3A//maxcdn.bootstrapcdn.com/bootstrap/3.2.0/js/bootstrap.min.js%22%3E%3C/script%3E%0A%20%20%20%20%3Cscript%20src%3D%22https%3A//cdnjs.cloudflare.com/ajax/libs/Leaflet.awesome-markers/2.0.2/leaflet.awesome-markers.js%22%3E%3C/script%3E%0A%20%20%20%20%3Clink%20rel%3D%22stylesheet%22%20href%3D%22https%3A//cdn.jsdelivr.net/npm/leaflet%401.4.0/dist/leaflet.css%22/%3E%0A%20%20%20%20%3Clink%20rel%3D%22stylesheet%22%20href%3D%22https%3A//maxcdn.bootstrapcdn.com/bootstrap/3.2.0/css/bootstrap.min.css%22/%3E%0A%20%20%20%20%3Clink%20rel%3D%22stylesheet%22%20href%3D%22https%3A//maxcdn.bootstrapcdn.com/bootstrap/3.2.0/css/bootstrap-theme.min.css%22/%3E%0A%20%20%20%20%3Clink%20rel%3D%22stylesheet%22%20href%3D%22https%3A//maxcdn.bootstrapcdn.com/font-awesome/4.6.3/css/font-awesome.min.css%22/%3E%0A%20%20%20%20%3Clink%20rel%3D%22stylesheet%22%20href%3D%22https%3A//cdnjs.cloudflare.com/ajax/libs/Leaflet.awesome-markers/2.0.2/leaflet.awesome-markers.css%22/%3E%0A%20%20%20%20%3Clink%20rel%3D%22stylesheet%22%20href%3D%22https%3A//rawcdn.githack.com/python-visualization/folium/master/folium/templates/leaflet.awesome.rotate.css%22/%3E%0A%20%20%20%20%3Cstyle%3Ehtml%2C%20body%20%7Bwidth%3A%20100%25%3Bheight%3A%20100%25%3Bmargin%3A%200%3Bpadding%3A%200%3B%7D%3C/style%3E%0A%20%20%20%20%3Cstyle%3E%23map%20%7Bposition%3Aabsolute%3Btop%3A0%3Bbottom%3A0%3Bright%3A0%3Bleft%3A0%3B%7D%3C/style%3E%0A%20%20%20%20%0A%20%20%20%20%3Cmeta%20name%3D%22viewport%22%20content%3D%22width%3Ddevice-width%2C%0A%20%20%20%20%20%20%20%20initial-scale%3D1.0%2C%20maximum-scale%3D1.0%2C%20user-scalable%3Dno%22%20/%3E%0A%20%20%20%20%3Cstyle%3E%23map_18248084a9c24b868c8d41d2a46a26d0%20%7B%0A%20%20%20%20%20%20%20%20position%3A%20relative%3B%0A%20%20%20%20%20%20%20%20width%3A%20100.0%25%3B%0A%20%20%20%20%20%20%20%20height%3A%20100.0%25%3B%0A%20%20%20%20%20%20%20%20left%3A%200.0%25%3B%0A%20%20%20%20%20%20%20%20top%3A%200.0%25%3B%0A%20%20%20%20%20%20%20%20%7D%0A%20%20%20%20%3C/style%3E%0A%3C/head%3E%0A%3Cbody%3E%20%20%20%20%0A%20%20%20%20%0A%20%20%20%20%3Cdiv%20class%3D%22folium-map%22%20id%3D%22map_18248084a9c24b868c8d41d2a46a26d0%22%20%3E%3C/div%3E%0A%3C/body%3E%0A%3Cscript%3E%20%20%20%20%0A%20%20%20%20%0A%20%20%20%20%0A%20%20%20%20%20%20%20%20var%20bounds%20%3D%20null%3B%0A%20%20%20%20%0A%0A%20%20%20%20var%20map_18248084a9c24b868c8d41d2a46a26d0%20%3D%20L.map%28%0A%20%20%20%20%20%20%20%20%27map_18248084a9c24b868c8d41d2a46a26d0%27%2C%20%7B%0A%20%20%20%20%20%20%20%20center%3A%20%5B-33.903294897303354%2C%2018.420746651123252%5D%2C%0A%20%20%20%20%20%20%20%20zoom%3A%2010%2C%0A%20%20%20%20%20%20%20%20maxBounds%3A%20bounds%2C%0A%20%20%20%20%20%20%20%20layers%3A%20%5B%5D%2C%0A%20%20%20%20%20%20%20%20worldCopyJump%3A%20false%2C%0A%20%20%20%20%20%20%20%20crs%3A%20L.CRS.EPSG3857%2C%0A%20%20%20%20%20%20%20%20zoomControl%3A%20true%2C%0A%20%20%20%20%20%20%20%20%7D%29%3B%0A%0A%0A%20%20%20%20%0A%20%20%20%20var%20tile_layer_0119321abdac4c26a3986ba47d9218ca%20%3D%20L.tileLayer%28%0A%20%20%20%20%20%20%20%20%27https%3A//%7Bs%7D.tile.openstreetmap.org/%7Bz%7D/%7Bx%7D/%7By%7D.png%27%2C%0A%20%20%20%20%20%20%20%20%7B%0A%20%20%20%20%20%20%20%20%22attribution%22%3A%20null%2C%0A%20%20%20%20%20%20%20%20%22detectRetina%22%3A%20false%2C%0A%20%20%20%20%20%20%20%20%22maxNativeZoom%22%3A%2018%2C%0A%20%20%20%20%20%20%20%20%22maxZoom%22%3A%2018%2C%0A%20%20%20%20%20%20%20%20%22minZoom%22%3A%200%2C%0A%20%20%20%20%20%20%20%20%22noWrap%22%3A%20false%2C%0A%20%20%20%20%20%20%20%20%22opacity%22%3A%201%2C%0A%20%20%20%20%20%20%20%20%22subdomains%22%3A%20%22abc%22%2C%0A%20%20%20%20%20%20%20%20%22tms%22%3A%20false%0A%7D%29.addTo%28map_18248084a9c24b868c8d41d2a46a26d0%29%3B%0A%20%20%20%20%0A%0A%20%20%20%20%20%20%20%20%20%20%20%20var%20circle_aa2cfdd181b649e3acac3e076c83a6b0%20%3D%20L.circle%28%0A%20%20%20%20%20%20%20%20%20%20%20%20%20%20%20%20%5B-33.903294897303354%2C%2018.420746651123252%5D%2C%0A%20%20%20%20%20%20%20%20%20%20%20%20%20%20%20%20%7B%0A%20%20%22bubblingMouseEvents%22%3A%20true%2C%0A%20%20%22color%22%3A%20%22%233388ff%22%2C%0A%20%20%22dashArray%22%3A%20null%2C%0A%20%20%22dashOffset%22%3A%20null%2C%0A%20%20%22fill%22%3A%20false%2C%0A%20%20%22fillColor%22%3A%20%22%233388ff%22%2C%0A%20%20%22fillOpacity%22%3A%200.2%2C%0A%20%20%22fillRule%22%3A%20%22evenodd%22%2C%0A%20%20%22lineCap%22%3A%20%22round%22%2C%0A%20%20%22lineJoin%22%3A%20%22round%22%2C%0A%20%20%22opacity%22%3A%201.0%2C%0A%20%20%22radius%22%3A%201250%2C%0A%20%20%22stroke%22%3A%20true%2C%0A%20%20%22weight%22%3A%203%0A%7D%0A%20%20%20%20%20%20%20%20%20%20%20%20%20%20%20%20%29%0A%20%20%20%20%20%20%20%20%20%20%20%20%20%20%20%20.addTo%28map_18248084a9c24b868c8d41d2a46a26d0%29%3B%0A%20%20%20%20%20%20%20%20%20%20%20%20%0A%20%20%20%20%0A%20%20%20%20%20%20%20%20var%20marker_7a1006e7215542b8825db0735212932d%20%3D%20L.marker%28%0A%20%20%20%20%20%20%20%20%20%20%20%20%5B-33.8480556%2C%2018.6386111%5D%2C%0A%20%20%20%20%20%20%20%20%20%20%20%20%7B%0A%20%20%20%20%20%20%20%20%20%20%20%20%20%20%20%20icon%3A%20new%20L.Icon.Default%28%29%2C%0A%20%20%20%20%20%20%20%20%20%20%20%20%20%20%20%20%7D%0A%20%20%20%20%20%20%20%20%20%20%20%20%29.addTo%28map_18248084a9c24b868c8d41d2a46a26d0%29%3B%0A%20%20%20%20%20%20%20%20%0A%20%20%20%20%0A%20%20%20%20%20%20%20%20%20%20%20%20var%20popup_a7054437294542b39695e73c2e5dcfe3%20%3D%20L.popup%28%7BmaxWidth%3A%20%27100%25%27%0A%20%20%20%20%20%20%20%20%20%20%20%20%0A%20%20%20%20%20%20%20%20%20%20%20%20%7D%29%3B%0A%0A%20%20%20%20%20%20%20%20%20%20%20%20%0A%20%20%20%20%20%20%20%20%20%20%20%20%20%20%20%20var%20html_e25d4bd104fb464e9a8a824051b53056%20%3D%20%24%28%60%3Cdiv%20id%3D%22html_e25d4bd104fb464e9a8a824051b53056%22%20style%3D%22width%3A%20100.0%25%3B%20height%3A%20100.0%25%3B%22%3ESuburb%3A%20Durbanville%20Hills%C2%A0%20%20%20%20%20%20Distance%20from%20%20V%26A%20Waterfront%3A%2024.9156350544904KM%20%20%20%20%20%20%20%20%20%20Height%20above%20sea%20level%28m%29%3A%20237%3C/div%3E%60%29%5B0%5D%3B%0A%20%20%20%20%20%20%20%20%20%20%20%20%20%20%20%20popup_a7054437294542b39695e73c2e5dcfe3.setContent%28html_e25d4bd104fb464e9a8a824051b53056%29%3B%0A%20%20%20%20%20%20%20%20%20%20%20%20%0A%0A%20%20%20%20%20%20%20%20%20%20%20%20marker_7a1006e7215542b8825db0735212932d.bindPopup%28popup_a7054437294542b39695e73c2e5dcfe3%29%0A%20%20%20%20%20%20%20%20%20%20%20%20%3B%0A%0A%20%20%20%20%20%20%20%20%20%20%20%20%0A%20%20%20%20%20%20%20%20%0A%20%20%20%20%0A%20%20%20%20%20%20%20%20marker_7a1006e7215542b8825db0735212932d.bindTooltip%28%0A%20%20%20%20%20%20%20%20%20%20%20%20%60%3Cdiv%3E%60%0A%20%20%20%20%20%20%20%20%20%20%20%20%2B%20%60Click%20for%20more%20information%21%60%20%2B%20%60%3C/div%3E%60%2C%0A%20%20%20%20%20%20%20%20%20%20%20%20%7B%22sticky%22%3A%20true%7D%0A%20%20%20%20%20%20%20%20%29%3B%0A%20%20%20%20%20%20%20%20%0A%20%20%20%20%0A%20%20%20%20%20%20%20%20var%20marker_b5ad1654eb1f4ea7bdea0edee3a527be%20%3D%20L.marker%28%0A%20%20%20%20%20%20%20%20%20%20%20%20%5B-33.8394693%2C%2018.6310927%5D%2C%0A%20%20%20%20%20%20%20%20%20%20%20%20%7B%0A%20%20%20%20%20%20%20%20%20%20%20%20%20%20%20%20icon%3A%20new%20L.Icon.Default%28%29%2C%0A%20%20%20%20%20%20%20%20%20%20%20%20%20%20%20%20%7D%0A%20%20%20%20%20%20%20%20%20%20%20%20%29.addTo%28map_18248084a9c24b868c8d41d2a46a26d0%29%3B%0A%20%20%20%20%20%20%20%20%0A%20%20%20%20%0A%20%20%20%20%20%20%20%20%20%20%20%20var%20popup_8128966fd49544fea6e1e53ffcf2396b%20%3D%20L.popup%28%7BmaxWidth%3A%20%27100%25%27%0A%20%20%20%20%20%20%20%20%20%20%20%20%0A%20%20%20%20%20%20%20%20%20%20%20%20%7D%29%3B%0A%0A%20%20%20%20%20%20%20%20%20%20%20%20%0A%20%20%20%20%20%20%20%20%20%20%20%20%20%20%20%20var%20html_75f93e7e640b472299a60297c50d9800%20%3D%20%24%28%60%3Cdiv%20id%3D%22html_75f93e7e640b472299a60297c50d9800%22%20style%3D%22width%3A%20100.0%25%3B%20height%3A%20100.0%25%3B%22%3ESuburb%3A%20Vergesig%C2%A0%20%20%20%20%20%20Distance%20from%20%20V%26A%20Waterfront%3A%2024.338205208961536KM%20%20%20%20%20%20%20%20%20%20Height%20above%20sea%20level%28m%29%3A%20235%3C/div%3E%60%29%5B0%5D%3B%0A%20%20%20%20%20%20%20%20%20%20%20%20%20%20%20%20popup_8128966fd49544fea6e1e53ffcf2396b.setContent%28html_75f93e7e640b472299a60297c50d9800%29%3B%0A%20%20%20%20%20%20%20%20%20%20%20%20%0A%0A%20%20%20%20%20%20%20%20%20%20%20%20marker_b5ad1654eb1f4ea7bdea0edee3a527be.bindPopup%28popup_8128966fd49544fea6e1e53ffcf2396b%29%0A%20%20%20%20%20%20%20%20%20%20%20%20%3B%0A%0A%20%20%20%20%20%20%20%20%20%20%20%20%0A%20%20%20%20%20%20%20%20%0A%20%20%20%20%0A%20%20%20%20%20%20%20%20marker_b5ad1654eb1f4ea7bdea0edee3a527be.bindTooltip%28%0A%20%20%20%20%20%20%20%20%20%20%20%20%60%3Cdiv%3E%60%0A%20%20%20%20%20%20%20%20%20%20%20%20%2B%20%60Click%20for%20more%20information%21%60%20%2B%20%60%3C/div%3E%60%2C%0A%20%20%20%20%20%20%20%20%20%20%20%20%7B%22sticky%22%3A%20true%7D%0A%20%20%20%20%20%20%20%20%29%3B%0A%20%20%20%20%20%20%20%20%0A%20%20%20%20%0A%20%20%20%20%20%20%20%20var%20marker_115f341a897440e0a74aded3df6591da%20%3D%20L.marker%28%0A%20%20%20%20%20%20%20%20%20%20%20%20%5B-33.8302778%2C%2018.6319444%5D%2C%0A%20%20%20%20%20%20%20%20%20%20%20%20%7B%0A%20%20%20%20%20%20%20%20%20%20%20%20%20%20%20%20icon%3A%20new%20L.Icon.Default%28%29%2C%0A%20%20%20%20%20%20%20%20%20%20%20%20%20%20%20%20%7D%0A%20%20%20%20%20%20%20%20%20%20%20%20%29.addTo%28map_18248084a9c24b868c8d41d2a46a26d0%29%3B%0A%20%20%20%20%20%20%20%20%0A%20%20%20%20%0A%20%20%20%20%20%20%20%20%20%20%20%20var%20popup_62b5a522f3374116b0499f94bb4d8740%20%3D%20L.popup%28%7BmaxWidth%3A%20%27100%25%27%0A%20%20%20%20%20%20%20%20%20%20%20%20%0A%20%20%20%20%20%20%20%20%20%20%20%20%7D%29%3B%0A%0A%20%20%20%20%20%20%20%20%20%20%20%20%0A%20%20%20%20%20%20%20%20%20%20%20%20%20%20%20%20var%20html_ebc6b6fad89045128a5f44fc2b9868fb%20%3D%20%24%28%60%3Cdiv%20id%3D%22html_ebc6b6fad89045128a5f44fc2b9868fb%22%20style%3D%22width%3A%20100.0%25%3B%20height%3A%20100.0%25%3B%22%3ESuburb%3A%20Aurora%C2%A0%20%20%20%20%20%20Distance%20from%20%20V%26A%20Waterfront%3A%2024.713735984364593KM%20%20%20%20%20%20%20%20%20%20Height%20above%20sea%20level%28m%29%3A%20201%3C/div%3E%60%29%5B0%5D%3B%0A%20%20%20%20%20%20%20%20%20%20%20%20%20%20%20%20popup_62b5a522f3374116b0499f94bb4d8740.setContent%28html_ebc6b6fad89045128a5f44fc2b9868fb%29%3B%0A%20%20%20%20%20%20%20%20%20%20%20%20%0A%0A%20%20%20%20%20%20%20%20%20%20%20%20marker_115f341a897440e0a74aded3df6591da.bindPopup%28popup_62b5a522f3374116b0499f94bb4d8740%29%0A%20%20%20%20%20%20%20%20%20%20%20%20%3B%0A%0A%20%20%20%20%20%20%20%20%20%20%20%20%0A%20%20%20%20%20%20%20%20%0A%20%20%20%20%0A%20%20%20%20%20%20%20%20marker_115f341a897440e0a74aded3df6591da.bindTooltip%28%0A%20%20%20%20%20%20%20%20%20%20%20%20%60%3Cdiv%3E%60%0A%20%20%20%20%20%20%20%20%20%20%20%20%2B%20%60Click%20for%20more%20information%21%60%20%2B%20%60%3C/div%3E%60%2C%0A%20%20%20%20%20%20%20%20%20%20%20%20%7B%22sticky%22%3A%20true%7D%0A%20%20%20%20%20%20%20%20%29%3B%0A%20%20%20%20%20%20%20%20%0A%20%20%20%20%0A%20%20%20%20%20%20%20%20var%20marker_6b5b64c8b27e472ca613ad1bde00335b%20%3D%20L.marker%28%0A%20%20%20%20%20%20%20%20%20%20%20%20%5B-33.8536048%2C%2018.6475955%5D%2C%0A%20%20%20%20%20%20%20%20%20%20%20%20%7B%0A%20%20%20%20%20%20%20%20%20%20%20%20%20%20%20%20icon%3A%20new%20L.Icon.Default%28%29%2C%0A%20%20%20%20%20%20%20%20%20%20%20%20%20%20%20%20%7D%0A%20%20%20%20%20%20%20%20%20%20%20%20%29.addTo%28map_18248084a9c24b868c8d41d2a46a26d0%29%3B%0A%20%20%20%20%20%20%20%20%0A%20%20%20%20%0A%20%20%20%20%20%20%20%20%20%20%20%20var%20popup_bf8619b07d154275a5c377f9e15cd0bd%20%3D%20L.popup%28%7BmaxWidth%3A%20%27100%25%27%0A%20%20%20%20%20%20%20%20%20%20%20%20%0A%20%20%20%20%20%20%20%20%20%20%20%20%7D%29%3B%0A%0A%20%20%20%20%20%20%20%20%20%20%20%20%0A%20%20%20%20%20%20%20%20%20%20%20%20%20%20%20%20var%20html_f698e3a7596842c9850a272489103055%20%3D%20%24%28%60%3Cdiv%20id%3D%22html_f698e3a7596842c9850a272489103055%22%20style%3D%22width%3A%20100.0%25%3B%20height%3A%20100.0%25%3B%22%3ESuburb%3A%20Everglen%C2%A0%20%20%20%20%20%20Distance%20from%20%20V%26A%20Waterfront%3A%2025.762695919620757KM%20%20%20%20%20%20%20%20%20%20Height%20above%20sea%20level%28m%29%3A%20179%3C/div%3E%60%29%5B0%5D%3B%0A%20%20%20%20%20%20%20%20%20%20%20%20%20%20%20%20popup_bf8619b07d154275a5c377f9e15cd0bd.setContent%28html_f698e3a7596842c9850a272489103055%29%3B%0A%20%20%20%20%20%20%20%20%20%20%20%20%0A%0A%20%20%20%20%20%20%20%20%20%20%20%20marker_6b5b64c8b27e472ca613ad1bde00335b.bindPopup%28popup_bf8619b07d154275a5c377f9e15cd0bd%29%0A%20%20%20%20%20%20%20%20%20%20%20%20%3B%0A%0A%20%20%20%20%20%20%20%20%20%20%20%20%0A%20%20%20%20%20%20%20%20%0A%20%20%20%20%0A%20%20%20%20%20%20%20%20marker_6b5b64c8b27e472ca613ad1bde00335b.bindTooltip%28%0A%20%20%20%20%20%20%20%20%20%20%20%20%60%3Cdiv%3E%60%0A%20%20%20%20%20%20%20%20%20%20%20%20%2B%20%60Click%20for%20more%20information%21%60%20%2B%20%60%3C/div%3E%60%2C%0A%20%20%20%20%20%20%20%20%20%20%20%20%7B%22sticky%22%3A%20true%7D%0A%20%20%20%20%20%20%20%20%29%3B%0A%20%20%20%20%20%20%20%20%0A%20%20%20%20%0A%20%20%20%20%20%20%20%20var%20marker_6518da4b37f2417a8fc0765e60d67166%20%3D%20L.marker%28%0A%20%20%20%20%20%20%20%20%20%20%20%20%5B-33.8586778%2C%2018.6129234%5D%2C%0A%20%20%20%20%20%20%20%20%20%20%20%20%7B%0A%20%20%20%20%20%20%20%20%20%20%20%20%20%20%20%20icon%3A%20new%20L.Icon.Default%28%29%2C%0A%20%20%20%20%20%20%20%20%20%20%20%20%20%20%20%20%7D%0A%20%20%20%20%20%20%20%20%20%20%20%20%29.addTo%28map_18248084a9c24b868c8d41d2a46a26d0%29%3B%0A%20%20%20%20%20%20%20%20%0A%20%20%20%20%0A%20%20%20%20%20%20%20%20%20%20%20%20var%20popup_fbc3193966fa4b26b2c57eab04b5c6fd%20%3D%20L.popup%28%7BmaxWidth%3A%20%27100%25%27%0A%20%20%20%20%20%20%20%20%20%20%20%20%0A%20%20%20%20%20%20%20%20%20%20%20%20%7D%29%3B%0A%0A%20%20%20%20%20%20%20%20%20%20%20%20%0A%20%20%20%20%20%20%20%20%20%20%20%20%20%20%20%20var%20html_1600a85e49ce48eeb15084baf19710cc%20%3D%20%24%28%60%3Cdiv%20id%3D%22html_1600a85e49ce48eeb15084baf19710cc%22%20style%3D%22width%3A%20100.0%25%3B%20height%3A%20100.0%25%3B%22%3ESuburb%3A%20Durbell%C2%A0%20%20%20%20%20%20Distance%20from%20%20V%26A%20Waterfront%3A%2021.88077907919855KM%20%20%20%20%20%20%20%20%20%20Height%20above%20sea%20level%28m%29%3A%20176%3C/div%3E%60%29%5B0%5D%3B%0A%20%20%20%20%20%20%20%20%20%20%20%20%20%20%20%20popup_fbc3193966fa4b26b2c57eab04b5c6fd.setContent%28html_1600a85e49ce48eeb15084baf19710cc%29%3B%0A%20%20%20%20%20%20%20%20%20%20%20%20%0A%0A%20%20%20%20%20%20%20%20%20%20%20%20marker_6518da4b37f2417a8fc0765e60d67166.bindPopup%28popup_fbc3193966fa4b26b2c57eab04b5c6fd%29%0A%20%20%20%20%20%20%20%20%20%20%20%20%3B%0A%0A%20%20%20%20%20%20%20%20%20%20%20%20%0A%20%20%20%20%20%20%20%20%0A%20%20%20%20%0A%20%20%20%20%20%20%20%20marker_6518da4b37f2417a8fc0765e60d67166.bindTooltip%28%0A%20%20%20%20%20%20%20%20%20%20%20%20%60%3Cdiv%3E%60%0A%20%20%20%20%20%20%20%20%20%20%20%20%2B%20%60Click%20for%20more%20information%21%60%20%2B%20%60%3C/div%3E%60%2C%0A%20%20%20%20%20%20%20%20%20%20%20%20%7B%22sticky%22%3A%20true%7D%0A%20%20%20%20%20%20%20%20%29%3B%0A%20%20%20%20%20%20%20%20%0A%20%20%20%20%0A%20%20%20%20%20%20%20%20var%20marker_52f7e061495847a1a189803b66d75398%20%3D%20L.marker%28%0A%20%20%20%20%20%20%20%20%20%20%20%20%5B-33.8580556%2C%2018.6372222%5D%2C%0A%20%20%20%20%20%20%20%20%20%20%20%20%7B%0A%20%20%20%20%20%20%20%20%20%20%20%20%20%20%20%20icon%3A%20new%20L.Icon.Default%28%29%2C%0A%20%20%20%20%20%20%20%20%20%20%20%20%20%20%20%20%7D%0A%20%20%20%20%20%20%20%20%20%20%20%20%29.addTo%28map_18248084a9c24b868c8d41d2a46a26d0%29%3B%0A%20%20%20%20%20%20%20%20%0A%20%20%20%20%0A%20%20%20%20%20%20%20%20%20%20%20%20var%20popup_f98e01ca847a40989fb3b37861c60191%20%3D%20L.popup%28%7BmaxWidth%3A%20%27100%25%27%0A%20%20%20%20%20%20%20%20%20%20%20%20%0A%20%20%20%20%20%20%20%20%20%20%20%20%7D%29%3B%0A%0A%20%20%20%20%20%20%20%20%20%20%20%20%0A%20%20%20%20%20%20%20%20%20%20%20%20%20%20%20%20var%20html_0a7901a2c7ed4617a42c384f66588677%20%3D%20%24%28%60%3Cdiv%20id%3D%22html_0a7901a2c7ed4617a42c384f66588677%22%20style%3D%22width%3A%20100.0%25%3B%20height%3A%20100.0%25%3B%22%3ESuburb%3A%20Kenridge%C2%A0%20%20%20%20%20%20Distance%20from%20%20V%26A%20Waterfront%3A%2024.538978306643706KM%20%20%20%20%20%20%20%20%20%20Height%20above%20sea%20level%28m%29%3A%20173%3C/div%3E%60%29%5B0%5D%3B%0A%20%20%20%20%20%20%20%20%20%20%20%20%20%20%20%20popup_f98e01ca847a40989fb3b37861c60191.setContent%28html_0a7901a2c7ed4617a42c384f66588677%29%3B%0A%20%20%20%20%20%20%20%20%20%20%20%20%0A%0A%20%20%20%20%20%20%20%20%20%20%20%20marker_52f7e061495847a1a189803b66d75398.bindPopup%28popup_f98e01ca847a40989fb3b37861c60191%29%0A%20%20%20%20%20%20%20%20%20%20%20%20%3B%0A%0A%20%20%20%20%20%20%20%20%20%20%20%20%0A%20%20%20%20%20%20%20%20%0A%20%20%20%20%0A%20%20%20%20%20%20%20%20marker_52f7e061495847a1a189803b66d75398.bindTooltip%28%0A%20%20%20%20%20%20%20%20%20%20%20%20%60%3Cdiv%3E%60%0A%20%20%20%20%20%20%20%20%20%20%20%20%2B%20%60Click%20for%20more%20information%21%60%20%2B%20%60%3C/div%3E%60%2C%0A%20%20%20%20%20%20%20%20%20%20%20%20%7B%22sticky%22%3A%20true%7D%0A%20%20%20%20%20%20%20%20%29%3B%0A%20%20%20%20%20%20%20%20%0A%20%20%20%20%0A%20%20%20%20%20%20%20%20var%20marker_e3c076aa7d60430aa87ed7ed64d03ee3%20%3D%20L.marker%28%0A%20%20%20%20%20%20%20%20%20%20%20%20%5B-33.8815205%2C%2018.6182608%5D%2C%0A%20%20%20%20%20%20%20%20%20%20%20%20%7B%0A%20%20%20%20%20%20%20%20%20%20%20%20%20%20%20%20icon%3A%20new%20L.Icon.Default%28%29%2C%0A%20%20%20%20%20%20%20%20%20%20%20%20%20%20%20%20%7D%0A%20%20%20%20%20%20%20%20%20%20%20%20%29.addTo%28map_18248084a9c24b868c8d41d2a46a26d0%29%3B%0A%20%20%20%20%20%20%20%20%0A%20%20%20%20%0A%20%20%20%20%20%20%20%20%20%20%20%20var%20popup_36e67168fe9e41e9a1a7ed645ebbfe85%20%3D%20L.popup%28%7BmaxWidth%3A%20%27100%25%27%0A%20%20%20%20%20%20%20%20%20%20%20%20%0A%20%20%20%20%20%20%20%20%20%20%20%20%7D%29%3B%0A%0A%20%20%20%20%20%20%20%20%20%20%20%20%0A%20%20%20%20%20%20%20%20%20%20%20%20%20%20%20%20var%20html_e777c058b7d141649e0f81cc16e5c1b6%20%3D%20%24%28%60%3Cdiv%20id%3D%22html_e777c058b7d141649e0f81cc16e5c1b6%22%20style%3D%22width%3A%20100.0%25%3B%20height%3A%20100.0%25%3B%22%3ESuburb%3A%20Uitzicht%C2%A0%20%20%20%20%20%20Distance%20from%20%20V%26A%20Waterfront%3A%2022.08224013590789KM%20%20%20%20%20%20%20%20%20%20Height%20above%20sea%20level%28m%29%3A%20164%3C/div%3E%60%29%5B0%5D%3B%0A%20%20%20%20%20%20%20%20%20%20%20%20%20%20%20%20popup_36e67168fe9e41e9a1a7ed645ebbfe85.setContent%28html_e777c058b7d141649e0f81cc16e5c1b6%29%3B%0A%20%20%20%20%20%20%20%20%20%20%20%20%0A%0A%20%20%20%20%20%20%20%20%20%20%20%20marker_e3c076aa7d60430aa87ed7ed64d03ee3.bindPopup%28popup_36e67168fe9e41e9a1a7ed645ebbfe85%29%0A%20%20%20%20%20%20%20%20%20%20%20%20%3B%0A%0A%20%20%20%20%20%20%20%20%20%20%20%20%0A%20%20%20%20%20%20%20%20%0A%20%20%20%20%0A%20%20%20%20%20%20%20%20marker_e3c076aa7d60430aa87ed7ed64d03ee3.bindTooltip%28%0A%20%20%20%20%20%20%20%20%20%20%20%20%60%3Cdiv%3E%60%0A%20%20%20%20%20%20%20%20%20%20%20%20%2B%20%60Click%20for%20more%20information%21%60%20%2B%20%60%3C/div%3E%60%2C%0A%20%20%20%20%20%20%20%20%20%20%20%20%7B%22sticky%22%3A%20true%7D%0A%20%20%20%20%20%20%20%20%29%3B%0A%20%20%20%20%20%20%20%20%0A%20%20%20%20%0A%20%20%20%20%20%20%20%20var%20marker_496179fdf8754a9f881e2e9b5aac5f21%20%3D%20L.marker%28%0A%20%20%20%20%20%20%20%20%20%20%20%20%5B-33.8616667%2C%2018.6486111%5D%2C%0A%20%20%20%20%20%20%20%20%20%20%20%20%7B%0A%20%20%20%20%20%20%20%20%20%20%20%20%20%20%20%20icon%3A%20new%20L.Icon.Default%28%29%2C%0A%20%20%20%20%20%20%20%20%20%20%20%20%20%20%20%20%7D%0A%20%20%20%20%20%20%20%20%20%20%20%20%29.addTo%28map_18248084a9c24b868c8d41d2a46a26d0%29%3B%0A%20%20%20%20%20%20%20%20%0A%20%20%20%20%0A%20%20%20%20%20%20%20%20%20%20%20%20var%20popup_32eececa20ac4a9f878bd2c4bc8922a0%20%3D%20L.popup%28%7BmaxWidth%3A%20%27100%25%27%0A%20%20%20%20%20%20%20%20%20%20%20%20%0A%20%20%20%20%20%20%20%20%20%20%20%20%7D%29%3B%0A%0A%20%20%20%20%20%20%20%20%20%20%20%20%0A%20%20%20%20%20%20%20%20%20%20%20%20%20%20%20%20var%20html_4262c9bdd8be46d08d0f3fc050991f7a%20%3D%20%24%28%60%3Cdiv%20id%3D%22html_4262c9bdd8be46d08d0f3fc050991f7a%22%20style%3D%22width%3A%20100.0%25%3B%20height%3A%20100.0%25%3B%22%3ESuburb%3A%20Eversdal%C2%A0%20%20%20%20%20%20Distance%20from%20%20V%26A%20Waterfront%3A%2025.71465477161716KM%20%20%20%20%20%20%20%20%20%20Height%20above%20sea%20level%28m%29%3A%20161%3C/div%3E%60%29%5B0%5D%3B%0A%20%20%20%20%20%20%20%20%20%20%20%20%20%20%20%20popup_32eececa20ac4a9f878bd2c4bc8922a0.setContent%28html_4262c9bdd8be46d08d0f3fc050991f7a%29%3B%0A%20%20%20%20%20%20%20%20%20%20%20%20%0A%0A%20%20%20%20%20%20%20%20%20%20%20%20marker_496179fdf8754a9f881e2e9b5aac5f21.bindPopup%28popup_32eececa20ac4a9f878bd2c4bc8922a0%29%0A%20%20%20%20%20%20%20%20%20%20%20%20%3B%0A%0A%20%20%20%20%20%20%20%20%20%20%20%20%0A%20%20%20%20%20%20%20%20%0A%20%20%20%20%0A%20%20%20%20%20%20%20%20marker_496179fdf8754a9f881e2e9b5aac5f21.bindTooltip%28%0A%20%20%20%20%20%20%20%20%20%20%20%20%60%3Cdiv%3E%60%0A%20%20%20%20%20%20%20%20%20%20%20%20%2B%20%60Click%20for%20more%20information%21%60%20%2B%20%60%3C/div%3E%60%2C%0A%20%20%20%20%20%20%20%20%20%20%20%20%7B%22sticky%22%3A%20true%7D%0A%20%20%20%20%20%20%20%20%29%3B%0A%20%20%20%20%20%20%20%20%0A%20%20%20%20%0A%20%20%20%20%20%20%20%20var%20marker_1e62be99568b4656b7461e99b5c5adb2%20%3D%20L.marker%28%0A%20%20%20%20%20%20%20%20%20%20%20%20%5B38.5867699%2C%20-90.3334527%5D%2C%0A%20%20%20%20%20%20%20%20%20%20%20%20%7B%0A%20%20%20%20%20%20%20%20%20%20%20%20%20%20%20%20icon%3A%20new%20L.Icon.Default%28%29%2C%0A%20%20%20%20%20%20%20%20%20%20%20%20%20%20%20%20%7D%0A%20%20%20%20%20%20%20%20%20%20%20%20%29.addTo%28map_18248084a9c24b868c8d41d2a46a26d0%29%3B%0A%20%20%20%20%20%20%20%20%0A%20%20%20%20%0A%20%20%20%20%20%20%20%20%20%20%20%20var%20popup_500a8ca85e2543d096d98ca440310eef%20%3D%20L.popup%28%7BmaxWidth%3A%20%27100%25%27%0A%20%20%20%20%20%20%20%20%20%20%20%20%0A%20%20%20%20%20%20%20%20%20%20%20%20%7D%29%3B%0A%0A%20%20%20%20%20%20%20%20%20%20%20%20%0A%20%20%20%20%20%20%20%20%20%20%20%20%20%20%20%20var%20html_eed857669a364fc3852b172c51898709%20%3D%20%24%28%60%3Cdiv%20id%3D%22html_eed857669a364fc3852b172c51898709%22%20style%3D%22width%3A%20100.0%25%3B%20height%3A%20100.0%25%3B%22%3ESuburb%3A%20Kenridge%20Heights%C2%A0%20%20%20%20%20%20Distance%20from%20%20V%26A%20Waterfront%3A%2012066.959988121676KM%20%20%20%20%20%20%20%20%20%20Height%20above%20sea%20level%28m%29%3A%20157%3C/div%3E%60%29%5B0%5D%3B%0A%20%20%20%20%20%20%20%20%20%20%20%20%20%20%20%20popup_500a8ca85e2543d096d98ca440310eef.setContent%28html_eed857669a364fc3852b172c51898709%29%3B%0A%20%20%20%20%20%20%20%20%20%20%20%20%0A%0A%20%20%20%20%20%20%20%20%20%20%20%20marker_1e62be99568b4656b7461e99b5c5adb2.bindPopup%28popup_500a8ca85e2543d096d98ca440310eef%29%0A%20%20%20%20%20%20%20%20%20%20%20%20%3B%0A%0A%20%20%20%20%20%20%20%20%20%20%20%20%0A%20%20%20%20%20%20%20%20%0A%20%20%20%20%0A%20%20%20%20%20%20%20%20marker_1e62be99568b4656b7461e99b5c5adb2.bindTooltip%28%0A%20%20%20%20%20%20%20%20%20%20%20%20%60%3Cdiv%3E%60%0A%20%20%20%20%20%20%20%20%20%20%20%20%2B%20%60Click%20for%20more%20information%21%60%20%2B%20%60%3C/div%3E%60%2C%0A%20%20%20%20%20%20%20%20%20%20%20%20%7B%22sticky%22%3A%20true%7D%0A%20%20%20%20%20%20%20%20%29%3B%0A%20%20%20%20%20%20%20%20%0A%20%20%20%20%0A%20%20%20%20%20%20%20%20var%20marker_59e44dd6ccbe4fe3b2adc233f39f63ef%20%3D%20L.marker%28%0A%20%20%20%20%20%20%20%20%20%20%20%20%5B-33.8169444%2C%2018.6475%5D%2C%0A%20%20%20%20%20%20%20%20%20%20%20%20%7B%0A%20%20%20%20%20%20%20%20%20%20%20%20%20%20%20%20icon%3A%20new%20L.Icon.Default%28%29%2C%0A%20%20%20%20%20%20%20%20%20%20%20%20%20%20%20%20%7D%0A%20%20%20%20%20%20%20%20%20%20%20%20%29.addTo%28map_18248084a9c24b868c8d41d2a46a26d0%29%3B%0A%20%20%20%20%20%20%20%20%0A%20%20%20%20%0A%20%20%20%20%20%20%20%20%20%20%20%20var%20popup_f47da0a791404f40b4e5a825d83517dd%20%3D%20L.popup%28%7BmaxWidth%3A%20%27100%25%27%0A%20%20%20%20%20%20%20%20%20%20%20%20%0A%20%20%20%20%20%20%20%20%20%20%20%20%7D%29%3B%0A%0A%20%20%20%20%20%20%20%20%20%20%20%20%0A%20%20%20%20%20%20%20%20%20%20%20%20%20%20%20%20var%20html_fba7f01df86a4b7a92adff8ca77b50fe%20%3D%20%24%28%60%3Cdiv%20id%3D%22html_fba7f01df86a4b7a92adff8ca77b50fe%22%20style%3D%22width%3A%20100.0%25%3B%20height%3A%20100.0%25%3B%22%3ESuburb%3A%20Schoongezicht%C2%A0%20%20%20%20%20%20Distance%20from%20%20V%26A%20Waterfront%3A%2026.806990257091787KM%20%20%20%20%20%20%20%20%20%20Height%20above%20sea%20level%28m%29%3A%20157%3C/div%3E%60%29%5B0%5D%3B%0A%20%20%20%20%20%20%20%20%20%20%20%20%20%20%20%20popup_f47da0a791404f40b4e5a825d83517dd.setContent%28html_fba7f01df86a4b7a92adff8ca77b50fe%29%3B%0A%20%20%20%20%20%20%20%20%20%20%20%20%0A%0A%20%20%20%20%20%20%20%20%20%20%20%20marker_59e44dd6ccbe4fe3b2adc233f39f63ef.bindPopup%28popup_f47da0a791404f40b4e5a825d83517dd%29%0A%20%20%20%20%20%20%20%20%20%20%20%20%3B%0A%0A%20%20%20%20%20%20%20%20%20%20%20%20%0A%20%20%20%20%20%20%20%20%0A%20%20%20%20%0A%20%20%20%20%20%20%20%20marker_59e44dd6ccbe4fe3b2adc233f39f63ef.bindTooltip%28%0A%20%20%20%20%20%20%20%20%20%20%20%20%60%3Cdiv%3E%60%0A%20%20%20%20%20%20%20%20%20%20%20%20%2B%20%60Click%20for%20more%20information%21%60%20%2B%20%60%3C/div%3E%60%2C%0A%20%20%20%20%20%20%20%20%20%20%20%20%7B%22sticky%22%3A%20true%7D%0A%20%20%20%20%20%20%20%20%29%3B%0A%20%20%20%20%20%20%20%20%0A%20%20%20%20%0A%20%20%20%20%20%20%20%20var%20marker_742284ed649045718e1bea71c476d7eb%20%3D%20L.marker%28%0A%20%20%20%20%20%20%20%20%20%20%20%20%5B-33.8197486%2C%2018.6564128%5D%2C%0A%20%20%20%20%20%20%20%20%20%20%20%20%7B%0A%20%20%20%20%20%20%20%20%20%20%20%20%20%20%20%20icon%3A%20new%20L.Icon.Default%28%29%2C%0A%20%20%20%20%20%20%20%20%20%20%20%20%20%20%20%20%7D%0A%20%20%20%20%20%20%20%20%20%20%20%20%29.addTo%28map_18248084a9c24b868c8d41d2a46a26d0%29%3B%0A%20%20%20%20%20%20%20%20%0A%20%20%20%20%0A%20%20%20%20%20%20%20%20%20%20%20%20var%20popup_8fca783fa96e41ba85a0ff7df98c31fd%20%3D%20L.popup%28%7BmaxWidth%3A%20%27100%25%27%0A%20%20%20%20%20%20%20%20%20%20%20%20%0A%20%20%20%20%20%20%20%20%20%20%20%20%7D%29%3B%0A%0A%20%20%20%20%20%20%20%20%20%20%20%20%0A%20%20%20%20%20%20%20%20%20%20%20%20%20%20%20%20var%20html_937ab70427f248328ba9085fd0c75d58%20%3D%20%24%28%60%3Cdiv%20id%3D%22html_937ab70427f248328ba9085fd0c75d58%22%20style%3D%22width%3A%20100.0%25%3B%20height%3A%20100.0%25%3B%22%3ESuburb%3A%20Proteaville%C2%A0%20%20%20%20%20%20Distance%20from%20%20V%26A%20Waterfront%3A%2027.645508460859475KM%20%20%20%20%20%20%20%20%20%20Height%20above%20sea%20level%28m%29%3A%20155%3C/div%3E%60%29%5B0%5D%3B%0A%20%20%20%20%20%20%20%20%20%20%20%20%20%20%20%20popup_8fca783fa96e41ba85a0ff7df98c31fd.setContent%28html_937ab70427f248328ba9085fd0c75d58%29%3B%0A%20%20%20%20%20%20%20%20%20%20%20%20%0A%0A%20%20%20%20%20%20%20%20%20%20%20%20marker_742284ed649045718e1bea71c476d7eb.bindPopup%28popup_8fca783fa96e41ba85a0ff7df98c31fd%29%0A%20%20%20%20%20%20%20%20%20%20%20%20%3B%0A%0A%20%20%20%20%20%20%20%20%20%20%20%20%0A%20%20%20%20%20%20%20%20%0A%20%20%20%20%0A%20%20%20%20%20%20%20%20marker_742284ed649045718e1bea71c476d7eb.bindTooltip%28%0A%20%20%20%20%20%20%20%20%20%20%20%20%60%3Cdiv%3E%60%0A%20%20%20%20%20%20%20%20%20%20%20%20%2B%20%60Click%20for%20more%20information%21%60%20%2B%20%60%3C/div%3E%60%2C%0A%20%20%20%20%20%20%20%20%20%20%20%20%7B%22sticky%22%3A%20true%7D%0A%20%20%20%20%20%20%20%20%29%3B%0A%20%20%20%20%20%20%20%20%0A%20%20%20%20%0A%20%20%20%20%20%20%20%20var%20marker_e87b224ccc934236bc0021e822f72ae2%20%3D%20L.marker%28%0A%20%20%20%20%20%20%20%20%20%20%20%20%5B-33.820452849999995%2C%2018.658273125012826%5D%2C%0A%20%20%20%20%20%20%20%20%20%20%20%20%7B%0A%20%20%20%20%20%20%20%20%20%20%20%20%20%20%20%20icon%3A%20new%20L.Icon.Default%28%29%2C%0A%20%20%20%20%20%20%20%20%20%20%20%20%20%20%20%20%7D%0A%20%20%20%20%20%20%20%20%20%20%20%20%29.addTo%28map_18248084a9c24b868c8d41d2a46a26d0%29%3B%0A%20%20%20%20%20%20%20%20%0A%20%20%20%20%0A%20%20%20%20%20%20%20%20%20%20%20%20var%20popup_b831ff62fc874dbfaa4a3f2129be303e%20%3D%20L.popup%28%7BmaxWidth%3A%20%27100%25%27%0A%20%20%20%20%20%20%20%20%20%20%20%20%0A%20%20%20%20%20%20%20%20%20%20%20%20%7D%29%3B%0A%0A%20%20%20%20%20%20%20%20%20%20%20%20%0A%20%20%20%20%20%20%20%20%20%20%20%20%20%20%20%20var%20html_976b357d94ec4e868122f8d8c39a6164%20%3D%20%24%28%60%3Cdiv%20id%3D%22html_976b357d94ec4e868122f8d8c39a6164%22%20style%3D%22width%3A%20100.0%25%3B%20height%3A%20100.0%25%3B%22%3ESuburb%3A%20Bergsig%C2%A0%20%20%20%20%20%20Distance%20from%20%20V%26A%20Waterfront%3A%2027.81825184299091KM%20%20%20%20%20%20%20%20%20%20Height%20above%20sea%20level%28m%29%3A%20155%3C/div%3E%60%29%5B0%5D%3B%0A%20%20%20%20%20%20%20%20%20%20%20%20%20%20%20%20popup_b831ff62fc874dbfaa4a3f2129be303e.setContent%28html_976b357d94ec4e868122f8d8c39a6164%29%3B%0A%20%20%20%20%20%20%20%20%20%20%20%20%0A%0A%20%20%20%20%20%20%20%20%20%20%20%20marker_e87b224ccc934236bc0021e822f72ae2.bindPopup%28popup_b831ff62fc874dbfaa4a3f2129be303e%29%0A%20%20%20%20%20%20%20%20%20%20%20%20%3B%0A%0A%20%20%20%20%20%20%20%20%20%20%20%20%0A%20%20%20%20%20%20%20%20%0A%20%20%20%20%0A%20%20%20%20%20%20%20%20marker_e87b224ccc934236bc0021e822f72ae2.bindTooltip%28%0A%20%20%20%20%20%20%20%20%20%20%20%20%60%3Cdiv%3E%60%0A%20%20%20%20%20%20%20%20%20%20%20%20%2B%20%60Click%20for%20more%20information%21%60%20%2B%20%60%3C/div%3E%60%2C%0A%20%20%20%20%20%20%20%20%20%20%20%20%7B%22sticky%22%3A%20true%7D%0A%20%20%20%20%20%20%20%20%29%3B%0A%20%20%20%20%20%20%20%20%0A%20%20%20%20%0A%20%20%20%20%20%20%20%20var%20marker_cc3ad9e889694f35aed16a84475bbdb4%20%3D%20L.marker%28%0A%20%20%20%20%20%20%20%20%20%20%20%20%5B-33.8458322%2C%2018.6509295%5D%2C%0A%20%20%20%20%20%20%20%20%20%20%20%20%7B%0A%20%20%20%20%20%20%20%20%20%20%20%20%20%20%20%20icon%3A%20new%20L.Icon.Default%28%29%2C%0A%20%20%20%20%20%20%20%20%20%20%20%20%20%20%20%20%7D%0A%20%20%20%20%20%20%20%20%20%20%20%20%29.addTo%28map_18248084a9c24b868c8d41d2a46a26d0%29%3B%0A%20%20%20%20%20%20%20%20%0A%20%20%20%20%0A%20%20%20%20%20%20%20%20%20%20%20%20var%20popup_ec34c99d5685402e954edfcfca5239c0%20%3D%20L.popup%28%7BmaxWidth%3A%20%27100%25%27%0A%20%20%20%20%20%20%20%20%20%20%20%20%0A%20%20%20%20%20%20%20%20%20%20%20%20%7D%29%3B%0A%0A%20%20%20%20%20%20%20%20%20%20%20%20%0A%20%20%20%20%20%20%20%20%20%20%20%20%20%20%20%20var%20html_4117ecd1174341c083704a7bcd198c7b%20%3D%20%24%28%60%3Cdiv%20id%3D%22html_4117ecd1174341c083704a7bcd198c7b%22%20style%3D%22width%3A%20100.0%25%3B%20height%3A%20100.0%25%3B%22%3ESuburb%3A%20Valmary%20Park%C2%A0%20%20%20%20%20%20Distance%20from%20%20V%26A%20Waterfront%3A%2026.30233837711679KM%20%20%20%20%20%20%20%20%20%20Height%20above%20sea%20level%28m%29%3A%20154%3C/div%3E%60%29%5B0%5D%3B%0A%20%20%20%20%20%20%20%20%20%20%20%20%20%20%20%20popup_ec34c99d5685402e954edfcfca5239c0.setContent%28html_4117ecd1174341c083704a7bcd198c7b%29%3B%0A%20%20%20%20%20%20%20%20%20%20%20%20%0A%0A%20%20%20%20%20%20%20%20%20%20%20%20marker_cc3ad9e889694f35aed16a84475bbdb4.bindPopup%28popup_ec34c99d5685402e954edfcfca5239c0%29%0A%20%20%20%20%20%20%20%20%20%20%20%20%3B%0A%0A%20%20%20%20%20%20%20%20%20%20%20%20%0A%20%20%20%20%20%20%20%20%0A%20%20%20%20%0A%20%20%20%20%20%20%20%20marker_cc3ad9e889694f35aed16a84475bbdb4.bindTooltip%28%0A%20%20%20%20%20%20%20%20%20%20%20%20%60%3Cdiv%3E%60%0A%20%20%20%20%20%20%20%20%20%20%20%20%2B%20%60Click%20for%20more%20information%21%60%20%2B%20%60%3C/div%3E%60%2C%0A%20%20%20%20%20%20%20%20%20%20%20%20%7B%22sticky%22%3A%20true%7D%0A%20%20%20%20%20%20%20%20%29%3B%0A%20%20%20%20%20%20%20%20%0A%20%20%20%20%0A%20%20%20%20%20%20%20%20var%20marker_f592e27ec08b40d1b821c87032f7d714%20%3D%20L.marker%28%0A%20%20%20%20%20%20%20%20%20%20%20%20%5B-33.8134647%2C%2018.6576526%5D%2C%0A%20%20%20%20%20%20%20%20%20%20%20%20%7B%0A%20%20%20%20%20%20%20%20%20%20%20%20%20%20%20%20icon%3A%20new%20L.Icon.Default%28%29%2C%0A%20%20%20%20%20%20%20%20%20%20%20%20%20%20%20%20%7D%0A%20%20%20%20%20%20%20%20%20%20%20%20%29.addTo%28map_18248084a9c24b868c8d41d2a46a26d0%29%3B%0A%20%20%20%20%20%20%20%20%0A%20%20%20%20%0A%20%20%20%20%20%20%20%20%20%20%20%20var%20popup_aec63e28dd0842c19b4082650fe900ef%20%3D%20L.popup%28%7BmaxWidth%3A%20%27100%25%27%0A%20%20%20%20%20%20%20%20%20%20%20%20%0A%20%20%20%20%20%20%20%20%20%20%20%20%7D%29%3B%0A%0A%20%20%20%20%20%20%20%20%20%20%20%20%0A%20%20%20%20%20%20%20%20%20%20%20%20%20%20%20%20var%20html_9df4faec0be64c699bfacd3ca89f5317%20%3D%20%24%28%60%3Cdiv%20id%3D%22html_9df4faec0be64c699bfacd3ca89f5317%22%20style%3D%22width%3A%20100.0%25%3B%20height%3A%20100.0%25%3B%22%3ESuburb%3A%20Vierlanden%C2%A0%20%20%20%20%20%20Distance%20from%20%20V%26A%20Waterfront%3A%2027.99333143369088KM%20%20%20%20%20%20%20%20%20%20Height%20above%20sea%20level%28m%29%3A%20147%3C/div%3E%60%29%5B0%5D%3B%0A%20%20%20%20%20%20%20%20%20%20%20%20%20%20%20%20popup_aec63e28dd0842c19b4082650fe900ef.setContent%28html_9df4faec0be64c699bfacd3ca89f5317%29%3B%0A%20%20%20%20%20%20%20%20%20%20%20%20%0A%0A%20%20%20%20%20%20%20%20%20%20%20%20marker_f592e27ec08b40d1b821c87032f7d714.bindPopup%28popup_aec63e28dd0842c19b4082650fe900ef%29%0A%20%20%20%20%20%20%20%20%20%20%20%20%3B%0A%0A%20%20%20%20%20%20%20%20%20%20%20%20%0A%20%20%20%20%20%20%20%20%0A%20%20%20%20%0A%20%20%20%20%20%20%20%20marker_f592e27ec08b40d1b821c87032f7d714.bindTooltip%28%0A%20%20%20%20%20%20%20%20%20%20%20%20%60%3Cdiv%3E%60%0A%20%20%20%20%20%20%20%20%20%20%20%20%2B%20%60Click%20for%20more%20information%21%60%20%2B%20%60%3C/div%3E%60%2C%0A%20%20%20%20%20%20%20%20%20%20%20%20%7B%22sticky%22%3A%20true%7D%0A%20%20%20%20%20%20%20%20%29%3B%0A%20%20%20%20%20%20%20%20%0A%20%20%20%20%0A%20%20%20%20%20%20%20%20var%20marker_889adba868154f549e415298c5b8105e%20%3D%20L.marker%28%0A%20%20%20%20%20%20%20%20%20%20%20%20%5B-33.8701683%2C%2018.6522183%5D%2C%0A%20%20%20%20%20%20%20%20%20%20%20%20%7B%0A%20%20%20%20%20%20%20%20%20%20%20%20%20%20%20%20icon%3A%20new%20L.Icon.Default%28%29%2C%0A%20%20%20%20%20%20%20%20%20%20%20%20%20%20%20%20%7D%0A%20%20%20%20%20%20%20%20%20%20%20%20%29.addTo%28map_18248084a9c24b868c8d41d2a46a26d0%29%3B%0A%20%20%20%20%20%20%20%20%0A%20%20%20%20%0A%20%20%20%20%20%20%20%20%20%20%20%20var%20popup_79ce3ae3618e4878970a430b28ae6a50%20%3D%20L.popup%28%7BmaxWidth%3A%20%27100%25%27%0A%20%20%20%20%20%20%20%20%20%20%20%20%0A%20%20%20%20%20%20%20%20%20%20%20%20%7D%29%3B%0A%0A%20%20%20%20%20%20%20%20%20%20%20%20%0A%20%20%20%20%20%20%20%20%20%20%20%20%20%20%20%20var%20html_ff84d2444a114a3eb5669fd63fc178a8%20%3D%20%24%28%60%3Cdiv%20id%3D%22html_ff84d2444a114a3eb5669fd63fc178a8%22%20style%3D%22width%3A%20100.0%25%3B%20height%3A%20100.0%25%3B%22%3ESuburb%3A%20Langeberg%20Village%C2%A0%20%20%20%20%20%20Distance%20from%20%20V%26A%20Waterfront%3A%2025.974332115170576KM%20%20%20%20%20%20%20%20%20%20Height%20above%20sea%20level%28m%29%3A%20133%3C/div%3E%60%29%5B0%5D%3B%0A%20%20%20%20%20%20%20%20%20%20%20%20%20%20%20%20popup_79ce3ae3618e4878970a430b28ae6a50.setContent%28html_ff84d2444a114a3eb5669fd63fc178a8%29%3B%0A%20%20%20%20%20%20%20%20%20%20%20%20%0A%0A%20%20%20%20%20%20%20%20%20%20%20%20marker_889adba868154f549e415298c5b8105e.bindPopup%28popup_79ce3ae3618e4878970a430b28ae6a50%29%0A%20%20%20%20%20%20%20%20%20%20%20%20%3B%0A%0A%20%20%20%20%20%20%20%20%20%20%20%20%0A%20%20%20%20%20%20%20%20%0A%20%20%20%20%0A%20%20%20%20%20%20%20%20marker_889adba868154f549e415298c5b8105e.bindTooltip%28%0A%20%20%20%20%20%20%20%20%20%20%20%20%60%3Cdiv%3E%60%0A%20%20%20%20%20%20%20%20%20%20%20%20%2B%20%60Click%20for%20more%20information%21%60%20%2B%20%60%3C/div%3E%60%2C%0A%20%20%20%20%20%20%20%20%20%20%20%20%7B%22sticky%22%3A%20true%7D%0A%20%20%20%20%20%20%20%20%29%3B%0A%20%20%20%20%20%20%20%20%0A%20%20%20%20%0A%20%20%20%20%20%20%20%20var%20marker_77127d6294744a05bb96278dfa95b452%20%3D%20L.marker%28%0A%20%20%20%20%20%20%20%20%20%20%20%20%5B-33.899095%2C%2018.8476414%5D%2C%0A%20%20%20%20%20%20%20%20%20%20%20%20%7B%0A%20%20%20%20%20%20%20%20%20%20%20%20%20%20%20%20icon%3A%20new%20L.Icon.Default%28%29%2C%0A%20%20%20%20%20%20%20%20%20%20%20%20%20%20%20%20%7D%0A%20%20%20%20%20%20%20%20%20%20%20%20%29.addTo%28map_18248084a9c24b868c8d41d2a46a26d0%29%3B%0A%20%20%20%20%20%20%20%20%0A%20%20%20%20%0A%20%20%20%20%20%20%20%20%20%20%20%20var%20popup_d9f6195cb8634562b4ada52fa155661b%20%3D%20L.popup%28%7BmaxWidth%3A%20%27100%25%27%0A%20%20%20%20%20%20%20%20%20%20%20%20%0A%20%20%20%20%20%20%20%20%20%20%20%20%7D%29%3B%0A%0A%20%20%20%20%20%20%20%20%20%20%20%20%0A%20%20%20%20%20%20%20%20%20%20%20%20%20%20%20%20var%20html_0c5467f186214585ba4fe09973b2111f%20%3D%20%24%28%60%3Cdiv%20id%3D%22html_0c5467f186214585ba4fe09973b2111f%22%20style%3D%22width%3A%20100.0%25%3B%20height%3A%20100.0%25%3B%22%3ESuburb%3A%20Welgevonden%20Estate%C2%A0%20%20%20%20%20%20Distance%20from%20%20V%26A%20Waterfront%3A%2047.47059295372637KM%20%20%20%20%20%20%20%20%20%20Height%20above%20sea%20level%28m%29%3A%20132%3C/div%3E%60%29%5B0%5D%3B%0A%20%20%20%20%20%20%20%20%20%20%20%20%20%20%20%20popup_d9f6195cb8634562b4ada52fa155661b.setContent%28html_0c5467f186214585ba4fe09973b2111f%29%3B%0A%20%20%20%20%20%20%20%20%20%20%20%20%0A%0A%20%20%20%20%20%20%20%20%20%20%20%20marker_77127d6294744a05bb96278dfa95b452.bindPopup%28popup_d9f6195cb8634562b4ada52fa155661b%29%0A%20%20%20%20%20%20%20%20%20%20%20%20%3B%0A%0A%20%20%20%20%20%20%20%20%20%20%20%20%0A%20%20%20%20%20%20%20%20%0A%20%20%20%20%0A%20%20%20%20%20%20%20%20marker_77127d6294744a05bb96278dfa95b452.bindTooltip%28%0A%20%20%20%20%20%20%20%20%20%20%20%20%60%3Cdiv%3E%60%0A%20%20%20%20%20%20%20%20%20%20%20%20%2B%20%60Click%20for%20more%20information%21%60%20%2B%20%60%3C/div%3E%60%2C%0A%20%20%20%20%20%20%20%20%20%20%20%20%7B%22sticky%22%3A%20true%7D%0A%20%20%20%20%20%20%20%20%29%3B%0A%20%20%20%20%20%20%20%20%0A%20%20%20%20%0A%20%20%20%20%20%20%20%20var%20marker_9910c33475fb45569881c16d31aa0de8%20%3D%20L.marker%28%0A%20%20%20%20%20%20%20%20%20%20%20%20%5B-33.84611275%2C%2018.654999850652167%5D%2C%0A%20%20%20%20%20%20%20%20%20%20%20%20%7B%0A%20%20%20%20%20%20%20%20%20%20%20%20%20%20%20%20icon%3A%20new%20L.Icon.Default%28%29%2C%0A%20%20%20%20%20%20%20%20%20%20%20%20%20%20%20%20%7D%0A%20%20%20%20%20%20%20%20%20%20%20%20%29.addTo%28map_18248084a9c24b868c8d41d2a46a26d0%29%3B%0A%20%20%20%20%20%20%20%20%0A%20%20%20%20%0A%20%20%20%20%20%20%20%20%20%20%20%20var%20popup_5061104b71384f3d8a0d941f007a57ac%20%3D%20L.popup%28%7BmaxWidth%3A%20%27100%25%27%0A%20%20%20%20%20%20%20%20%20%20%20%20%0A%20%20%20%20%20%20%20%20%20%20%20%20%7D%29%3B%0A%0A%20%20%20%20%20%20%20%20%20%20%20%20%0A%20%20%20%20%20%20%20%20%20%20%20%20%20%20%20%20var%20html_b23df98aad9d444080fa522b4aa711a4%20%3D%20%24%28%60%3Cdiv%20id%3D%22html_b23df98aad9d444080fa522b4aa711a4%22%20style%3D%22width%3A%20100.0%25%3B%20height%3A%20100.0%25%3B%22%3ESuburb%3A%20Vygeboom%C2%A0%20%20%20%20%20%20Distance%20from%20%20V%26A%20Waterfront%3A%2026.736274182365275KM%20%20%20%20%20%20%20%20%20%20Height%20above%20sea%20level%28m%29%3A%20131%3C/div%3E%60%29%5B0%5D%3B%0A%20%20%20%20%20%20%20%20%20%20%20%20%20%20%20%20popup_5061104b71384f3d8a0d941f007a57ac.setContent%28html_b23df98aad9d444080fa522b4aa711a4%29%3B%0A%20%20%20%20%20%20%20%20%20%20%20%20%0A%0A%20%20%20%20%20%20%20%20%20%20%20%20marker_9910c33475fb45569881c16d31aa0de8.bindPopup%28popup_5061104b71384f3d8a0d941f007a57ac%29%0A%20%20%20%20%20%20%20%20%20%20%20%20%3B%0A%0A%20%20%20%20%20%20%20%20%20%20%20%20%0A%20%20%20%20%20%20%20%20%0A%20%20%20%20%0A%20%20%20%20%20%20%20%20marker_9910c33475fb45569881c16d31aa0de8.bindTooltip%28%0A%20%20%20%20%20%20%20%20%20%20%20%20%60%3Cdiv%3E%60%0A%20%20%20%20%20%20%20%20%20%20%20%20%2B%20%60Click%20for%20more%20information%21%60%20%2B%20%60%3C/div%3E%60%2C%0A%20%20%20%20%20%20%20%20%20%20%20%20%7B%22sticky%22%3A%20true%7D%0A%20%20%20%20%20%20%20%20%29%3B%0A%20%20%20%20%20%20%20%20%0A%20%20%20%20%0A%20%20%20%20%20%20%20%20var%20marker_0b2a61cb4b1647558f4beaee08bebe68%20%3D%20L.marker%28%0A%20%20%20%20%20%20%20%20%20%20%20%20%5B-33.8261111%2C%2018.6727778%5D%2C%0A%20%20%20%20%20%20%20%20%20%20%20%20%7B%0A%20%20%20%20%20%20%20%20%20%20%20%20%20%20%20%20icon%3A%20new%20L.Icon.Default%28%29%2C%0A%20%20%20%20%20%20%20%20%20%20%20%20%20%20%20%20%7D%0A%20%20%20%20%20%20%20%20%20%20%20%20%29.addTo%28map_18248084a9c24b868c8d41d2a46a26d0%29%3B%0A%20%20%20%20%20%20%20%20%0A%20%20%20%20%0A%20%20%20%20%20%20%20%20%20%20%20%20var%20popup_c0bf78cd1d1a428eb5153c51abdbf7ae%20%3D%20L.popup%28%7BmaxWidth%3A%20%27100%25%27%0A%20%20%20%20%20%20%20%20%20%20%20%20%0A%20%20%20%20%20%20%20%20%20%20%20%20%7D%29%3B%0A%0A%20%20%20%20%20%20%20%20%20%20%20%20%0A%20%20%20%20%20%20%20%20%20%20%20%20%20%20%20%20var%20html_0ad249478be54e1f81883578795252c6%20%3D%20%24%28%60%3Cdiv%20id%3D%22html_0ad249478be54e1f81883578795252c6%22%20style%3D%22width%3A%20100.0%25%3B%20height%3A%20100.0%25%3B%22%3ESuburb%3A%20Goedemoed%C2%A0%20%20%20%20%20%20Distance%20from%20%20V%26A%20Waterfront%3A%2029.181900339428385KM%20%20%20%20%20%20%20%20%20%20Height%20above%20sea%20level%28m%29%3A%20121%3C/div%3E%60%29%5B0%5D%3B%0A%20%20%20%20%20%20%20%20%20%20%20%20%20%20%20%20popup_c0bf78cd1d1a428eb5153c51abdbf7ae.setContent%28html_0ad249478be54e1f81883578795252c6%29%3B%0A%20%20%20%20%20%20%20%20%20%20%20%20%0A%0A%20%20%20%20%20%20%20%20%20%20%20%20marker_0b2a61cb4b1647558f4beaee08bebe68.bindPopup%28popup_c0bf78cd1d1a428eb5153c51abdbf7ae%29%0A%20%20%20%20%20%20%20%20%20%20%20%20%3B%0A%0A%20%20%20%20%20%20%20%20%20%20%20%20%0A%20%20%20%20%20%20%20%20%0A%20%20%20%20%0A%20%20%20%20%20%20%20%20marker_0b2a61cb4b1647558f4beaee08bebe68.bindTooltip%28%0A%20%20%20%20%20%20%20%20%20%20%20%20%60%3Cdiv%3E%60%0A%20%20%20%20%20%20%20%20%20%20%20%20%2B%20%60Click%20for%20more%20information%21%60%20%2B%20%60%3C/div%3E%60%2C%0A%20%20%20%20%20%20%20%20%20%20%20%20%7B%22sticky%22%3A%20true%7D%0A%20%20%20%20%20%20%20%20%29%3B%0A%20%20%20%20%20%20%20%20%0A%20%20%20%20%0A%20%20%20%20%20%20%20%20var%20marker_ef4e11afb84e41eda9381aa6a6e224c5%20%3D%20L.marker%28%0A%20%20%20%20%20%20%20%20%20%20%20%20%5B-33.8527778%2C%2018.6597222%5D%2C%0A%20%20%20%20%20%20%20%20%20%20%20%20%7B%0A%20%20%20%20%20%20%20%20%20%20%20%20%20%20%20%20icon%3A%20new%20L.Icon.Default%28%29%2C%0A%20%20%20%20%20%20%20%20%20%20%20%20%20%20%20%20%7D%0A%20%20%20%20%20%20%20%20%20%20%20%20%29.addTo%28map_18248084a9c24b868c8d41d2a46a26d0%29%3B%0A%20%20%20%20%20%20%20%20%0A%20%20%20%20%0A%20%20%20%20%20%20%20%20%20%20%20%20var%20popup_d9fc3238b26f42d19a59790c07a6f9b6%20%3D%20L.popup%28%7BmaxWidth%3A%20%27100%25%27%0A%20%20%20%20%20%20%20%20%20%20%20%20%0A%20%20%20%20%20%20%20%20%20%20%20%20%7D%29%3B%0A%0A%20%20%20%20%20%20%20%20%20%20%20%20%0A%20%20%20%20%20%20%20%20%20%20%20%20%20%20%20%20var%20html_a1171a122c2f4730848dbf15b0abe7ff%20%3D%20%24%28%60%3Cdiv%20id%3D%22html_a1171a122c2f4730848dbf15b0abe7ff%22%20style%3D%22width%3A%20100.0%25%3B%20height%3A%20100.0%25%3B%22%3ESuburb%3A%20Amanda%20Glen%C2%A0%20%20%20%20%20%20Distance%20from%20%20V%26A%20Waterfront%3A%2027.101300966598615KM%20%20%20%20%20%20%20%20%20%20Height%20above%20sea%20level%28m%29%3A%20114%3C/div%3E%60%29%5B0%5D%3B%0A%20%20%20%20%20%20%20%20%20%20%20%20%20%20%20%20popup_d9fc3238b26f42d19a59790c07a6f9b6.setContent%28html_a1171a122c2f4730848dbf15b0abe7ff%29%3B%0A%20%20%20%20%20%20%20%20%20%20%20%20%0A%0A%20%20%20%20%20%20%20%20%20%20%20%20marker_ef4e11afb84e41eda9381aa6a6e224c5.bindPopup%28popup_d9fc3238b26f42d19a59790c07a6f9b6%29%0A%20%20%20%20%20%20%20%20%20%20%20%20%3B%0A%0A%20%20%20%20%20%20%20%20%20%20%20%20%0A%20%20%20%20%20%20%20%20%0A%20%20%20%20%0A%20%20%20%20%20%20%20%20marker_ef4e11afb84e41eda9381aa6a6e224c5.bindTooltip%28%0A%20%20%20%20%20%20%20%20%20%20%20%20%60%3Cdiv%3E%60%0A%20%20%20%20%20%20%20%20%20%20%20%20%2B%20%60Click%20for%20more%20information%21%60%20%2B%20%60%3C/div%3E%60%2C%0A%20%20%20%20%20%20%20%20%20%20%20%20%7B%22sticky%22%3A%20true%7D%0A%20%20%20%20%20%20%20%20%29%3B%0A%20%20%20%20%20%20%20%20%0A%20%20%20%20%0A%20%20%20%20%20%20%20%20var%20marker_85f5675432ce4919b08dab3f4a6cd2c2%20%3D%20L.marker%28%0A%20%20%20%20%20%20%20%20%20%20%20%20%5B-33.81488835%2C%2018.674364974956454%5D%2C%0A%20%20%20%20%20%20%20%20%20%20%20%20%7B%0A%20%20%20%20%20%20%20%20%20%20%20%20%20%20%20%20icon%3A%20new%20L.Icon.Default%28%29%2C%0A%20%20%20%20%20%20%20%20%20%20%20%20%20%20%20%20%7D%0A%20%20%20%20%20%20%20%20%20%20%20%20%29.addTo%28map_18248084a9c24b868c8d41d2a46a26d0%29%3B%0A%20%20%20%20%20%20%20%20%0A%20%20%20%20%0A%20%20%20%20%20%20%20%20%20%20%20%20var%20popup_0c6046ef3aaa462387bdb9778369a0a5%20%3D%20L.popup%28%7BmaxWidth%3A%20%27100%25%27%0A%20%20%20%20%20%20%20%20%20%20%20%20%0A%20%20%20%20%20%20%20%20%20%20%20%20%7D%29%3B%0A%0A%20%20%20%20%20%20%20%20%20%20%20%20%0A%20%20%20%20%20%20%20%20%20%20%20%20%20%20%20%20var%20html_42b3c1c5cc184217b615f1348d6fced0%20%3D%20%24%28%60%3Cdiv%20id%3D%22html_42b3c1c5cc184217b615f1348d6fced0%22%20style%3D%22width%3A%20100.0%25%3B%20height%3A%20100.0%25%3B%22%3ESuburb%3A%20Graanendal%C2%A0%20%20%20%20%20%20Distance%20from%20%20V%26A%20Waterfront%3A%2029.701150279901633KM%20%20%20%20%20%20%20%20%20%20Height%20above%20sea%20level%28m%29%3A%20114%3C/div%3E%60%29%5B0%5D%3B%0A%20%20%20%20%20%20%20%20%20%20%20%20%20%20%20%20popup_0c6046ef3aaa462387bdb9778369a0a5.setContent%28html_42b3c1c5cc184217b615f1348d6fced0%29%3B%0A%20%20%20%20%20%20%20%20%20%20%20%20%0A%0A%20%20%20%20%20%20%20%20%20%20%20%20marker_85f5675432ce4919b08dab3f4a6cd2c2.bindPopup%28popup_0c6046ef3aaa462387bdb9778369a0a5%29%0A%20%20%20%20%20%20%20%20%20%20%20%20%3B%0A%0A%20%20%20%20%20%20%20%20%20%20%20%20%0A%20%20%20%20%20%20%20%20%0A%20%20%20%20%0A%20%20%20%20%20%20%20%20marker_85f5675432ce4919b08dab3f4a6cd2c2.bindTooltip%28%0A%20%20%20%20%20%20%20%20%20%20%20%20%60%3Cdiv%3E%60%0A%20%20%20%20%20%20%20%20%20%20%20%20%2B%20%60Click%20for%20more%20information%21%60%20%2B%20%60%3C/div%3E%60%2C%0A%20%20%20%20%20%20%20%20%20%20%20%20%7B%22sticky%22%3A%20true%7D%0A%20%20%20%20%20%20%20%20%29%3B%0A%20%20%20%20%20%20%20%20%0A%20%20%20%20%0A%20%20%20%20%20%20%20%20var%20marker_310483d8e3cc4e4fa0a135f3d1bd59b8%20%3D%20L.marker%28%0A%20%20%20%20%20%20%20%20%20%20%20%20%5B-33.848535%2C%2018.660994115212755%5D%2C%0A%20%20%20%20%20%20%20%20%20%20%20%20%7B%0A%20%20%20%20%20%20%20%20%20%20%20%20%20%20%20%20icon%3A%20new%20L.Icon.Default%28%29%2C%0A%20%20%20%20%20%20%20%20%20%20%20%20%20%20%20%20%7D%0A%20%20%20%20%20%20%20%20%20%20%20%20%29.addTo%28map_18248084a9c24b868c8d41d2a46a26d0%29%3B%0A%20%20%20%20%20%20%20%20%0A%20%20%20%20%0A%20%20%20%20%20%20%20%20%20%20%20%20var%20popup_5b35b856a3f54815b8de2436ab1082fb%20%3D%20L.popup%28%7BmaxWidth%3A%20%27100%25%27%0A%20%20%20%20%20%20%20%20%20%20%20%20%0A%20%20%20%20%20%20%20%20%20%20%20%20%7D%29%3B%0A%0A%20%20%20%20%20%20%20%20%20%20%20%20%0A%20%20%20%20%20%20%20%20%20%20%20%20%20%20%20%20var%20html_8a3dd157c117435aa836d73a2fc84527%20%3D%20%24%28%60%3Cdiv%20id%3D%22html_8a3dd157c117435aa836d73a2fc84527%22%20style%3D%22width%3A%20100.0%25%3B%20height%3A%20100.0%25%3B%22%3ESuburb%3A%20Sonstraal%C2%A0%20%20%20%20%20%20Distance%20from%20%20V%26A%20Waterfront%3A%2027.330954341174817KM%20%20%20%20%20%20%20%20%20%20Height%20above%20sea%20level%28m%29%3A%20111%3C/div%3E%60%29%5B0%5D%3B%0A%20%20%20%20%20%20%20%20%20%20%20%20%20%20%20%20popup_5b35b856a3f54815b8de2436ab1082fb.setContent%28html_8a3dd157c117435aa836d73a2fc84527%29%3B%0A%20%20%20%20%20%20%20%20%20%20%20%20%0A%0A%20%20%20%20%20%20%20%20%20%20%20%20marker_310483d8e3cc4e4fa0a135f3d1bd59b8.bindPopup%28popup_5b35b856a3f54815b8de2436ab1082fb%29%0A%20%20%20%20%20%20%20%20%20%20%20%20%3B%0A%0A%20%20%20%20%20%20%20%20%20%20%20%20%0A%20%20%20%20%20%20%20%20%0A%20%20%20%20%0A%20%20%20%20%20%20%20%20marker_310483d8e3cc4e4fa0a135f3d1bd59b8.bindTooltip%28%0A%20%20%20%20%20%20%20%20%20%20%20%20%60%3Cdiv%3E%60%0A%20%20%20%20%20%20%20%20%20%20%20%20%2B%20%60Click%20for%20more%20information%21%60%20%2B%20%60%3C/div%3E%60%2C%0A%20%20%20%20%20%20%20%20%20%20%20%20%7B%22sticky%22%3A%20true%7D%0A%20%20%20%20%20%20%20%20%29%3B%0A%20%20%20%20%20%20%20%20%0A%20%20%20%20%0A%20%20%20%20%20%20%20%20var%20marker_ceeceff978a24b238cf4ff480a011783%20%3D%20L.marker%28%0A%20%20%20%20%20%20%20%20%20%20%20%20%5B-33.8366667%2C%2018.6694444%5D%2C%0A%20%20%20%20%20%20%20%20%20%20%20%20%7B%0A%20%20%20%20%20%20%20%20%20%20%20%20%20%20%20%20icon%3A%20new%20L.Icon.Default%28%29%2C%0A%20%20%20%20%20%20%20%20%20%20%20%20%20%20%20%20%7D%0A%20%20%20%20%20%20%20%20%20%20%20%20%29.addTo%28map_18248084a9c24b868c8d41d2a46a26d0%29%3B%0A%20%20%20%20%20%20%20%20%0A%20%20%20%20%0A%20%20%20%20%20%20%20%20%20%20%20%20var%20popup_938896a780f34d0e85ecfc8d1b17a81b%20%3D%20L.popup%28%7BmaxWidth%3A%20%27100%25%27%0A%20%20%20%20%20%20%20%20%20%20%20%20%0A%20%20%20%20%20%20%20%20%20%20%20%20%7D%29%3B%0A%0A%20%20%20%20%20%20%20%20%20%20%20%20%0A%20%20%20%20%20%20%20%20%20%20%20%20%20%20%20%20var%20html_709d6d1bff124a499b607d46d95fa0ac%20%3D%20%24%28%60%3Cdiv%20id%3D%22html_709d6d1bff124a499b607d46d95fa0ac%22%20style%3D%22width%3A%20100.0%25%3B%20height%3A%20100.0%25%3B%22%3ESuburb%3A%20Tara%C2%A0%20%20%20%20%20%20Distance%20from%20%20V%26A%20Waterfront%3A%2028.532023026778138KM%20%20%20%20%20%20%20%20%20%20Height%20above%20sea%20level%28m%29%3A%20104%3C/div%3E%60%29%5B0%5D%3B%0A%20%20%20%20%20%20%20%20%20%20%20%20%20%20%20%20popup_938896a780f34d0e85ecfc8d1b17a81b.setContent%28html_709d6d1bff124a499b607d46d95fa0ac%29%3B%0A%20%20%20%20%20%20%20%20%20%20%20%20%0A%0A%20%20%20%20%20%20%20%20%20%20%20%20marker_ceeceff978a24b238cf4ff480a011783.bindPopup%28popup_938896a780f34d0e85ecfc8d1b17a81b%29%0A%20%20%20%20%20%20%20%20%20%20%20%20%3B%0A%0A%20%20%20%20%20%20%20%20%20%20%20%20%0A%20%20%20%20%20%20%20%20%0A%20%20%20%20%0A%20%20%20%20%20%20%20%20marker_ceeceff978a24b238cf4ff480a011783.bindTooltip%28%0A%20%20%20%20%20%20%20%20%20%20%20%20%60%3Cdiv%3E%60%0A%20%20%20%20%20%20%20%20%20%20%20%20%2B%20%60Click%20for%20more%20information%21%60%20%2B%20%60%3C/div%3E%60%2C%0A%20%20%20%20%20%20%20%20%20%20%20%20%7B%22sticky%22%3A%20true%7D%0A%20%20%20%20%20%20%20%20%29%3B%0A%20%20%20%20%20%20%20%20%0A%20%20%20%20%0A%20%20%20%20%20%20%20%20var%20marker_14df5393c086460e93c2309bd8457740%20%3D%20L.marker%28%0A%20%20%20%20%20%20%20%20%20%20%20%20%5B-33.8107289%2C%2018.667506285072122%5D%2C%0A%20%20%20%20%20%20%20%20%20%20%20%20%7B%0A%20%20%20%20%20%20%20%20%20%20%20%20%20%20%20%20icon%3A%20new%20L.Icon.Default%28%29%2C%0A%20%20%20%20%20%20%20%20%20%20%20%20%20%20%20%20%7D%0A%20%20%20%20%20%20%20%20%20%20%20%20%29.addTo%28map_18248084a9c24b868c8d41d2a46a26d0%29%3B%0A%20%20%20%20%20%20%20%20%0A%20%20%20%20%0A%20%20%20%20%20%20%20%20%20%20%20%20var%20popup_3656d8d098f84d7cb63f426d5b4f3c45%20%3D%20L.popup%28%7BmaxWidth%3A%20%27100%25%27%0A%20%20%20%20%20%20%20%20%20%20%20%20%0A%20%20%20%20%20%20%20%20%20%20%20%20%7D%29%3B%0A%0A%20%20%20%20%20%20%20%20%20%20%20%20%0A%20%20%20%20%20%20%20%20%20%20%20%20%20%20%20%20var%20html_b489e2b2eb6e4dce9f3d74b496998cd1%20%3D%20%24%28%60%3Cdiv%20id%3D%22html_b489e2b2eb6e4dce9f3d74b496998cd1%22%20style%3D%22width%3A%20100.0%25%3B%20height%3A%20100.0%25%3B%22%3ESuburb%3A%20Durmonte%C2%A0%20%20%20%20%20%20Distance%20from%20%20V%26A%20Waterfront%3A%2029.122054689164287KM%20%20%20%20%20%20%20%20%20%20Height%20above%20sea%20level%28m%29%3A%20104%3C/div%3E%60%29%5B0%5D%3B%0A%20%20%20%20%20%20%20%20%20%20%20%20%20%20%20%20popup_3656d8d098f84d7cb63f426d5b4f3c45.setContent%28html_b489e2b2eb6e4dce9f3d74b496998cd1%29%3B%0A%20%20%20%20%20%20%20%20%20%20%20%20%0A%0A%20%20%20%20%20%20%20%20%20%20%20%20marker_14df5393c086460e93c2309bd8457740.bindPopup%28popup_3656d8d098f84d7cb63f426d5b4f3c45%29%0A%20%20%20%20%20%20%20%20%20%20%20%20%3B%0A%0A%20%20%20%20%20%20%20%20%20%20%20%20%0A%20%20%20%20%20%20%20%20%0A%20%20%20%20%0A%20%20%20%20%20%20%20%20marker_14df5393c086460e93c2309bd8457740.bindTooltip%28%0A%20%20%20%20%20%20%20%20%20%20%20%20%60%3Cdiv%3E%60%0A%20%20%20%20%20%20%20%20%20%20%20%20%2B%20%60Click%20for%20more%20information%21%60%20%2B%20%60%3C/div%3E%60%2C%0A%20%20%20%20%20%20%20%20%20%20%20%20%7B%22sticky%22%3A%20true%7D%0A%20%20%20%20%20%20%20%20%29%3B%0A%20%20%20%20%20%20%20%20%0A%20%20%20%20%0A%20%20%20%20%20%20%20%20var%20marker_75f3952ec521472fb9ec6628f5bdbb8f%20%3D%20L.marker%28%0A%20%20%20%20%20%20%20%20%20%20%20%20%5B-33.7483019%2C%2018.5427689%5D%2C%0A%20%20%20%20%20%20%20%20%20%20%20%20%7B%0A%20%20%20%20%20%20%20%20%20%20%20%20%20%20%20%20icon%3A%20new%20L.Icon.Default%28%29%2C%0A%20%20%20%20%20%20%20%20%20%20%20%20%20%20%20%20%7D%0A%20%20%20%20%20%20%20%20%20%20%20%20%29.addTo%28map_18248084a9c24b868c8d41d2a46a26d0%29%3B%0A%20%20%20%20%20%20%20%20%0A%20%20%20%20%0A%20%20%20%20%20%20%20%20%20%20%20%20var%20popup_50ca1a22d9b74d9e99e0d9a65fa82742%20%3D%20L.popup%28%7BmaxWidth%3A%20%27100%25%27%0A%20%20%20%20%20%20%20%20%20%20%20%20%0A%20%20%20%20%20%20%20%20%20%20%20%20%7D%29%3B%0A%0A%20%20%20%20%20%20%20%20%20%20%20%20%0A%20%20%20%20%20%20%20%20%20%20%20%20%20%20%20%20var%20html_35291860f349455e866feef83c38e651%20%3D%20%24%28%60%3Cdiv%20id%3D%22html_35291860f349455e866feef83c38e651%22%20style%3D%22width%3A%20100.0%25%3B%20height%3A%20100.0%25%3B%22%3ESuburb%3A%20Morningstar%C2%A0%20%20%20%20%20%20Distance%20from%20%20V%26A%20Waterfront%3A%2021.243229776733454KM%20%20%20%20%20%20%20%20%20%20Height%20above%20sea%20level%28m%29%3A%2082%3C/div%3E%60%29%5B0%5D%3B%0A%20%20%20%20%20%20%20%20%20%20%20%20%20%20%20%20popup_50ca1a22d9b74d9e99e0d9a65fa82742.setContent%28html_35291860f349455e866feef83c38e651%29%3B%0A%20%20%20%20%20%20%20%20%20%20%20%20%0A%0A%20%20%20%20%20%20%20%20%20%20%20%20marker_75f3952ec521472fb9ec6628f5bdbb8f.bindPopup%28popup_50ca1a22d9b74d9e99e0d9a65fa82742%29%0A%20%20%20%20%20%20%20%20%20%20%20%20%3B%0A%0A%20%20%20%20%20%20%20%20%20%20%20%20%0A%20%20%20%20%20%20%20%20%0A%20%20%20%20%0A%20%20%20%20%20%20%20%20marker_75f3952ec521472fb9ec6628f5bdbb8f.bindTooltip%28%0A%20%20%20%20%20%20%20%20%20%20%20%20%60%3Cdiv%3E%60%0A%20%20%20%20%20%20%20%20%20%20%20%20%2B%20%60Click%20for%20more%20information%21%60%20%2B%20%60%3C/div%3E%60%2C%0A%20%20%20%20%20%20%20%20%20%20%20%20%7B%22sticky%22%3A%20true%7D%0A%20%20%20%20%20%20%20%20%29%3B%0A%20%20%20%20%20%20%20%20%0A%20%20%20%20%0A%20%20%20%20%20%20%20%20var%20marker_eec482bb4d614ca3924a54142e767c05%20%3D%20L.marker%28%0A%20%20%20%20%20%20%20%20%20%20%20%20%5B-34.0020257%2C%2018.468455397713413%5D%2C%0A%20%20%20%20%20%20%20%20%20%20%20%20%7B%0A%20%20%20%20%20%20%20%20%20%20%20%20%20%20%20%20icon%3A%20new%20L.Icon.Default%28%29%2C%0A%20%20%20%20%20%20%20%20%20%20%20%20%20%20%20%20%7D%0A%20%20%20%20%20%20%20%20%20%20%20%20%29.addTo%28map_18248084a9c24b868c8d41d2a46a26d0%29%3B%0A%20%20%20%20%20%20%20%20%0A%20%20%20%20%0A%20%20%20%20%20%20%20%20%20%20%20%20var%20popup_b78c7c2d27244621970a6064b8b804a9%20%3D%20L.popup%28%7BmaxWidth%3A%20%27100%25%27%0A%20%20%20%20%20%20%20%20%20%20%20%20%0A%20%20%20%20%20%20%20%20%20%20%20%20%7D%29%3B%0A%0A%20%20%20%20%20%20%20%20%20%20%20%20%0A%20%20%20%20%20%20%20%20%20%20%20%20%20%20%20%20var%20html_45379d830f5c481c9a7509db3cc6c9ae%20%3D%20%24%28%60%3Cdiv%20id%3D%22html_45379d830f5c481c9a7509db3cc6c9ae%22%20style%3D%22width%3A%20100.0%25%3B%20height%3A%20100.0%25%3B%22%3ESuburb%3A%20Pinehurst%C2%A0%20%20%20%20%20%20Distance%20from%20%20V%26A%20Waterfront%3A%2011.687709459299574KM%20%20%20%20%20%20%20%20%20%20Height%20above%20sea%20level%28m%29%3A%2074%3C/div%3E%60%29%5B0%5D%3B%0A%20%20%20%20%20%20%20%20%20%20%20%20%20%20%20%20popup_b78c7c2d27244621970a6064b8b804a9.setContent%28html_45379d830f5c481c9a7509db3cc6c9ae%29%3B%0A%20%20%20%20%20%20%20%20%20%20%20%20%0A%0A%20%20%20%20%20%20%20%20%20%20%20%20marker_eec482bb4d614ca3924a54142e767c05.bindPopup%28popup_b78c7c2d27244621970a6064b8b804a9%29%0A%20%20%20%20%20%20%20%20%20%20%20%20%3B%0A%0A%20%20%20%20%20%20%20%20%20%20%20%20%0A%20%20%20%20%20%20%20%20%0A%20%20%20%20%0A%20%20%20%20%20%20%20%20marker_eec482bb4d614ca3924a54142e767c05.bindTooltip%28%0A%20%20%20%20%20%20%20%20%20%20%20%20%60%3Cdiv%3E%60%0A%20%20%20%20%20%20%20%20%20%20%20%20%2B%20%60Click%20for%20more%20information%21%60%20%2B%20%60%3C/div%3E%60%2C%0A%20%20%20%20%20%20%20%20%20%20%20%20%7B%22sticky%22%3A%20true%7D%0A%20%20%20%20%20%20%20%20%29%3B%0A%20%20%20%20%20%20%20%20%0A%20%20%20%20%0A%20%20%20%20%20%20%20%20var%20marker_7c5e846a397c4960ba2ea1ba354b8324%20%3D%20L.marker%28%0A%20%20%20%20%20%20%20%20%20%20%20%20%5B-33.9833333%2C%2018.6583333%5D%2C%0A%20%20%20%20%20%20%20%20%20%20%20%20%7B%0A%20%20%20%20%20%20%20%20%20%20%20%20%20%20%20%20icon%3A%20new%20L.Icon.Default%28%29%2C%0A%20%20%20%20%20%20%20%20%20%20%20%20%20%20%20%20%7D%0A%20%20%20%20%20%20%20%20%20%20%20%20%29.addTo%28map_18248084a9c24b868c8d41d2a46a26d0%29%3B%0A%20%20%20%20%20%20%20%20%0A%20%20%20%20%0A%20%20%20%20%20%20%20%20%20%20%20%20var%20popup_bef58f80f13f42de98f4d9cb4b2c15cd%20%3D%20L.popup%28%7BmaxWidth%3A%20%27100%25%27%0A%20%20%20%20%20%20%20%20%20%20%20%20%0A%20%20%20%20%20%20%20%20%20%20%20%20%7D%29%3B%0A%0A%20%20%20%20%20%20%20%20%20%20%20%20%0A%20%20%20%20%20%20%20%20%20%20%20%20%20%20%20%20var%20html_6a3616f53003453891ecee8da315a662%20%3D%20%24%28%60%3Cdiv%20id%3D%22html_6a3616f53003453891ecee8da315a662%22%20style%3D%22width%3A%20100.0%25%3B%20height%3A%20100.0%25%3B%22%3ESuburb%3A%20Brentwood%20Park%C2%A0%20%20%20%20%20%20Distance%20from%20%20V%26A%20Waterfront%3A%2027.73325020530146KM%20%20%20%20%20%20%20%20%20%20Height%20above%20sea%20level%28m%29%3A%2038%3C/div%3E%60%29%5B0%5D%3B%0A%20%20%20%20%20%20%20%20%20%20%20%20%20%20%20%20popup_bef58f80f13f42de98f4d9cb4b2c15cd.setContent%28html_6a3616f53003453891ecee8da315a662%29%3B%0A%20%20%20%20%20%20%20%20%20%20%20%20%0A%0A%20%20%20%20%20%20%20%20%20%20%20%20marker_7c5e846a397c4960ba2ea1ba354b8324.bindPopup%28popup_bef58f80f13f42de98f4d9cb4b2c15cd%29%0A%20%20%20%20%20%20%20%20%20%20%20%20%3B%0A%0A%20%20%20%20%20%20%20%20%20%20%20%20%0A%20%20%20%20%20%20%20%20%0A%20%20%20%20%0A%20%20%20%20%20%20%20%20marker_7c5e846a397c4960ba2ea1ba354b8324.bindTooltip%28%0A%20%20%20%20%20%20%20%20%20%20%20%20%60%3Cdiv%3E%60%0A%20%20%20%20%20%20%20%20%20%20%20%20%2B%20%60Click%20for%20more%20information%21%60%20%2B%20%60%3C/div%3E%60%2C%0A%20%20%20%20%20%20%20%20%20%20%20%20%7B%22sticky%22%3A%20true%7D%0A%20%20%20%20%20%20%20%20%29%3B%0A%20%20%20%20%20%20%20%20%0A%20%20%20%20%0A%20%20%20%20%20%20%20%20var%20marker_62813cc7542c4d87af33d7a5b99c0fa5%20%3D%20L.marker%28%0A%20%20%20%20%20%20%20%20%20%20%20%20%5B-33.9561961%2C%2018.473817373599303%5D%2C%0A%20%20%20%20%20%20%20%20%20%20%20%20%7B%0A%20%20%20%20%20%20%20%20%20%20%20%20%20%20%20%20icon%3A%20new%20L.Icon.Default%28%29%2C%0A%20%20%20%20%20%20%20%20%20%20%20%20%20%20%20%20%7D%0A%20%20%20%20%20%20%20%20%20%20%20%20%29.addTo%28map_18248084a9c24b868c8d41d2a46a26d0%29%3B%0A%20%20%20%20%20%20%20%20%0A%20%20%20%20%0A%20%20%20%20%20%20%20%20%20%20%20%20var%20popup_8e02f70088ee4ae9a3677306620382aa%20%3D%20L.popup%28%7BmaxWidth%3A%20%27100%25%27%0A%20%20%20%20%20%20%20%20%20%20%20%20%0A%20%20%20%20%20%20%20%20%20%20%20%20%7D%29%3B%0A%0A%20%20%20%20%20%20%20%20%20%20%20%20%0A%20%20%20%20%20%20%20%20%20%20%20%20%20%20%20%20var%20html_230d67bfba3e4bcbb456cb1c5c69c940%20%3D%20%24%28%60%3Cdiv%20id%3D%22html_230d67bfba3e4bcbb456cb1c5c69c940%22%20style%3D%22width%3A%20100.0%25%3B%20height%3A%20100.0%25%3B%22%3ESuburb%3A%20Rosedale%C2%A0%20%20%20%20%20%20Distance%20from%20%20V%26A%20Waterfront%3A%208.121663516351969KM%20%20%20%20%20%20%20%20%20%20Height%20above%20sea%20level%28m%29%3A%2011%3C/div%3E%60%29%5B0%5D%3B%0A%20%20%20%20%20%20%20%20%20%20%20%20%20%20%20%20popup_8e02f70088ee4ae9a3677306620382aa.setContent%28html_230d67bfba3e4bcbb456cb1c5c69c940%29%3B%0A%20%20%20%20%20%20%20%20%20%20%20%20%0A%0A%20%20%20%20%20%20%20%20%20%20%20%20marker_62813cc7542c4d87af33d7a5b99c0fa5.bindPopup%28popup_8e02f70088ee4ae9a3677306620382aa%29%0A%20%20%20%20%20%20%20%20%20%20%20%20%3B%0A%0A%20%20%20%20%20%20%20%20%20%20%20%20%0A%20%20%20%20%20%20%20%20%0A%20%20%20%20%0A%20%20%20%20%20%20%20%20marker_62813cc7542c4d87af33d7a5b99c0fa5.bindTooltip%28%0A%20%20%20%20%20%20%20%20%20%20%20%20%60%3Cdiv%3E%60%0A%20%20%20%20%20%20%20%20%20%20%20%20%2B%20%60Click%20for%20more%20information%21%60%20%2B%20%60%3C/div%3E%60%2C%0A%20%20%20%20%20%20%20%20%20%20%20%20%7B%22sticky%22%3A%20true%7D%0A%20%20%20%20%20%20%20%20%29%3B%0A%20%20%20%20%20%20%20%20%0A%20%20%20%20%0A%20%20%20%20%20%20%20%20var%20marker_dade33d5351344808fa71fafc21f2931%20%3D%20L.marker%28%0A%20%20%20%20%20%20%20%20%20%20%20%20%5B51.0547804%2C%203.7177237%5D%2C%0A%20%20%20%20%20%20%20%20%20%20%20%20%7B%0A%20%20%20%20%20%20%20%20%20%20%20%20%20%20%20%20icon%3A%20new%20L.Icon.Default%28%29%2C%0A%20%20%20%20%20%20%20%20%20%20%20%20%20%20%20%20%7D%0A%20%20%20%20%20%20%20%20%20%20%20%20%29.addTo%28map_18248084a9c24b868c8d41d2a46a26d0%29%3B%0A%20%20%20%20%20%20%20%20%0A%20%20%20%20%0A%20%20%20%20%20%20%20%20%20%20%20%20var%20popup_fc6c1624b7ba4207ae3002b331d51485%20%3D%20L.popup%28%7BmaxWidth%3A%20%27100%25%27%0A%20%20%20%20%20%20%20%20%20%20%20%20%0A%20%20%20%20%20%20%20%20%20%20%20%20%7D%29%3B%0A%0A%20%20%20%20%20%20%20%20%20%20%20%20%0A%20%20%20%20%20%20%20%20%20%20%20%20%20%20%20%20var%20html_01fb8768948f4f4ab8517a32641f78aa%20%3D%20%24%28%60%3Cdiv%20id%3D%22html_01fb8768948f4f4ab8517a32641f78aa%22%20style%3D%22width%3A%20100.0%25%3B%20height%3A%20100.0%25%3B%22%3ESuburb%3A%20Avalon%20Estate%C2%A0%20%20%20%20%20%20Distance%20from%20%20V%26A%20Waterfront%3A%209345.710269887493KM%20%20%20%20%20%20%20%20%20%20Height%20above%20sea%20level%28m%29%3A%2010%3C/div%3E%60%29%5B0%5D%3B%0A%20%20%20%20%20%20%20%20%20%20%20%20%20%20%20%20popup_fc6c1624b7ba4207ae3002b331d51485.setContent%28html_01fb8768948f4f4ab8517a32641f78aa%29%3B%0A%20%20%20%20%20%20%20%20%20%20%20%20%0A%0A%20%20%20%20%20%20%20%20%20%20%20%20marker_dade33d5351344808fa71fafc21f2931.bindPopup%28popup_fc6c1624b7ba4207ae3002b331d51485%29%0A%20%20%20%20%20%20%20%20%20%20%20%20%3B%0A%0A%20%20%20%20%20%20%20%20%20%20%20%20%0A%20%20%20%20%20%20%20%20%0A%20%20%20%20%0A%20%20%20%20%20%20%20%20marker_dade33d5351344808fa71fafc21f2931.bindTooltip%28%0A%20%20%20%20%20%20%20%20%20%20%20%20%60%3Cdiv%3E%60%0A%20%20%20%20%20%20%20%20%20%20%20%20%2B%20%60Click%20for%20more%20information%21%60%20%2B%20%60%3C/div%3E%60%2C%0A%20%20%20%20%20%20%20%20%20%20%20%20%7B%22sticky%22%3A%20true%7D%0A%20%20%20%20%20%20%20%20%29%3B%0A%20%20%20%20%20%20%20%20%0A%20%20%20%20%0A%20%20%20%20%20%20%20%20var%20marker_fa671805c3304591bb6c52b51ee51b2e%20%3D%20L.marker%28%0A%20%20%20%20%20%20%20%20%20%20%20%20%5B-33.91787295%2C%2018.45869990750694%5D%2C%0A%20%20%20%20%20%20%20%20%20%20%20%20%7B%0A%20%20%20%20%20%20%20%20%20%20%20%20%20%20%20%20icon%3A%20new%20L.Icon.Default%28%29%2C%0A%20%20%20%20%20%20%20%20%20%20%20%20%20%20%20%20%7D%0A%20%20%20%20%20%20%20%20%20%20%20%20%29.addTo%28map_18248084a9c24b868c8d41d2a46a26d0%29%3B%0A%20%20%20%20%20%20%20%20%0A%20%20%20%20%0A%20%20%20%20%20%20%20%20%20%20%20%20var%20popup_f736af39fa8b48fe9b4766d8577d4aa8%20%3D%20L.popup%28%7BmaxWidth%3A%20%27100%25%27%0A%20%20%20%20%20%20%20%20%20%20%20%20%0A%20%20%20%20%20%20%20%20%20%20%20%20%7D%29%3B%0A%0A%20%20%20%20%20%20%20%20%20%20%20%20%0A%20%20%20%20%20%20%20%20%20%20%20%20%20%20%20%20var%20html_6bd4679b54564faaa293e60399155dbc%20%3D%20%24%28%60%3Cdiv%20id%3D%22html_6bd4679b54564faaa293e60399155dbc%22%20style%3D%22width%3A%20100.0%25%3B%20height%3A%20100.0%25%3B%22%3ESuburb%3A%20The%20Crest%C2%A0%20%20%20%20%20%20Distance%20from%20%20V%26A%20Waterfront%3A%204.491651162533459KM%20%20%20%20%20%20%20%20%20%20Height%20above%20sea%20level%28m%29%3A%206%3C/div%3E%60%29%5B0%5D%3B%0A%20%20%20%20%20%20%20%20%20%20%20%20%20%20%20%20popup_f736af39fa8b48fe9b4766d8577d4aa8.setContent%28html_6bd4679b54564faaa293e60399155dbc%29%3B%0A%20%20%20%20%20%20%20%20%20%20%20%20%0A%0A%20%20%20%20%20%20%20%20%20%20%20%20marker_fa671805c3304591bb6c52b51ee51b2e.bindPopup%28popup_f736af39fa8b48fe9b4766d8577d4aa8%29%0A%20%20%20%20%20%20%20%20%20%20%20%20%3B%0A%0A%20%20%20%20%20%20%20%20%20%20%20%20%0A%20%20%20%20%20%20%20%20%0A%20%20%20%20%0A%20%20%20%20%20%20%20%20marker_fa671805c3304591bb6c52b51ee51b2e.bindTooltip%28%0A%20%20%20%20%20%20%20%20%20%20%20%20%60%3Cdiv%3E%60%0A%20%20%20%20%20%20%20%20%20%20%20%20%2B%20%60Click%20for%20more%20information%21%60%20%2B%20%60%3C/div%3E%60%2C%0A%20%20%20%20%20%20%20%20%20%20%20%20%7B%22sticky%22%3A%20true%7D%0A%20%20%20%20%20%20%20%20%29%3B%0A%20%20%20%20%20%20%20%20%0A%3C/script%3E onload=\"this.contentDocument.open();this.contentDocument.write(    decodeURIComponent(this.getAttribute('data-html')));this.contentDocument.close();\" allowfullscreen webkitallowfullscreen mozallowfullscreen></iframe></div></div>"
            ],
            "text/plain": [
              "<folium.folium.Map at 0x7f440fea3f10>"
            ]
          },
          "metadata": {},
          "execution_count": 79
        }
      ]
    },
    {
      "cell_type": "markdown",
      "metadata": {
        "id": "WIamxo0hnsUd"
      },
      "source": [
        "Saving map to .html"
      ]
    },
    {
      "cell_type": "code",
      "metadata": {
        "colab": {
          "base_uri": "https://localhost:8080/"
        },
        "id": "ff0XIi7Onmzf",
        "outputId": "5940b89d-c54b-4e21-b314-d6c8d7c4d1b0"
      },
      "source": [
        "try:\n",
        "  m.save(outfile= \"cptsuburbdata.html\")\n",
        "  print('map saved to .html')\n",
        "except Exception as e:\n",
        "  print('Error file couldnt save: ',e)"
      ],
      "execution_count": null,
      "outputs": [
        {
          "output_type": "stream",
          "name": "stdout",
          "text": [
            "map saved to .html\n"
          ]
        }
      ]
    },
    {
      "cell_type": "markdown",
      "metadata": {
        "id": "k5vg6BBQmjUD"
      },
      "source": [
        "Notebook compiled by Ashlin Darius Govindasamy 2021"
      ]
    }
  ]
}